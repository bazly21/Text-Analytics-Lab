{
 "cells": [
  {
   "cell_type": "markdown",
   "id": "b87c3890",
   "metadata": {},
   "source": [
    "# Lab 8: Text Clustering"
   ]
  },
  {
   "cell_type": "code",
   "execution_count": 7,
   "id": "637bc59c",
   "metadata": {},
   "outputs": [],
   "source": [
    "# Import required libraries\n",
    "import numpy as np\n",
    "from sklearn.cluster import KMeans\n",
    "from sklearn.feature_extraction.text import TfidfVectorizer\n",
    "from tabulate import tabulate\n",
    "from collections import Counter"
   ]
  },
  {
   "cell_type": "markdown",
   "id": "3faf4535",
   "metadata": {},
   "source": [
    "## Using Dataset"
   ]
  },
  {
   "cell_type": "code",
   "execution_count": 8,
   "id": "9f57191a",
   "metadata": {},
   "outputs": [],
   "source": [
    "# Create documents\n",
    "dataset = [\"I love playing football on the weekends\",\n",
    "\"I enjoy hiking and camping in the mountains\",\n",
    "\"I like to read books and watch movies\",\n",
    "\"I prefer playing video games over sports\",\n",
    "\"I love listening to music and going to concerts\"]"
   ]
  },
  {
   "cell_type": "code",
   "execution_count": 9,
   "id": "84b7ccc8",
   "metadata": {},
   "outputs": [],
   "source": [
    "# Vectorize the dataset\n",
    "vectorizer = TfidfVectorizer()\n",
    "X = vectorizer.fit_transform(dataset)"
   ]
  },
  {
   "cell_type": "code",
   "execution_count": 10,
   "id": "38799c7c",
   "metadata": {},
   "outputs": [
    {
     "name": "stderr",
     "output_type": "stream",
     "text": [
      "/opt/anaconda3/lib/python3.11/site-packages/sklearn/cluster/_kmeans.py:870: FutureWarning: The default value of `n_init` will change from 10 to 'auto' in 1.4. Set the value of `n_init` explicitly to suppress the warning\n",
      "  warnings.warn(\n"
     ]
    },
    {
     "data": {
      "text/html": [
       "<style>#sk-container-id-1 {color: black;background-color: white;}#sk-container-id-1 pre{padding: 0;}#sk-container-id-1 div.sk-toggleable {background-color: white;}#sk-container-id-1 label.sk-toggleable__label {cursor: pointer;display: block;width: 100%;margin-bottom: 0;padding: 0.3em;box-sizing: border-box;text-align: center;}#sk-container-id-1 label.sk-toggleable__label-arrow:before {content: \"▸\";float: left;margin-right: 0.25em;color: #696969;}#sk-container-id-1 label.sk-toggleable__label-arrow:hover:before {color: black;}#sk-container-id-1 div.sk-estimator:hover label.sk-toggleable__label-arrow:before {color: black;}#sk-container-id-1 div.sk-toggleable__content {max-height: 0;max-width: 0;overflow: hidden;text-align: left;background-color: #f0f8ff;}#sk-container-id-1 div.sk-toggleable__content pre {margin: 0.2em;color: black;border-radius: 0.25em;background-color: #f0f8ff;}#sk-container-id-1 input.sk-toggleable__control:checked~div.sk-toggleable__content {max-height: 200px;max-width: 100%;overflow: auto;}#sk-container-id-1 input.sk-toggleable__control:checked~label.sk-toggleable__label-arrow:before {content: \"▾\";}#sk-container-id-1 div.sk-estimator input.sk-toggleable__control:checked~label.sk-toggleable__label {background-color: #d4ebff;}#sk-container-id-1 div.sk-label input.sk-toggleable__control:checked~label.sk-toggleable__label {background-color: #d4ebff;}#sk-container-id-1 input.sk-hidden--visually {border: 0;clip: rect(1px 1px 1px 1px);clip: rect(1px, 1px, 1px, 1px);height: 1px;margin: -1px;overflow: hidden;padding: 0;position: absolute;width: 1px;}#sk-container-id-1 div.sk-estimator {font-family: monospace;background-color: #f0f8ff;border: 1px dotted black;border-radius: 0.25em;box-sizing: border-box;margin-bottom: 0.5em;}#sk-container-id-1 div.sk-estimator:hover {background-color: #d4ebff;}#sk-container-id-1 div.sk-parallel-item::after {content: \"\";width: 100%;border-bottom: 1px solid gray;flex-grow: 1;}#sk-container-id-1 div.sk-label:hover label.sk-toggleable__label {background-color: #d4ebff;}#sk-container-id-1 div.sk-serial::before {content: \"\";position: absolute;border-left: 1px solid gray;box-sizing: border-box;top: 0;bottom: 0;left: 50%;z-index: 0;}#sk-container-id-1 div.sk-serial {display: flex;flex-direction: column;align-items: center;background-color: white;padding-right: 0.2em;padding-left: 0.2em;position: relative;}#sk-container-id-1 div.sk-item {position: relative;z-index: 1;}#sk-container-id-1 div.sk-parallel {display: flex;align-items: stretch;justify-content: center;background-color: white;position: relative;}#sk-container-id-1 div.sk-item::before, #sk-container-id-1 div.sk-parallel-item::before {content: \"\";position: absolute;border-left: 1px solid gray;box-sizing: border-box;top: 0;bottom: 0;left: 50%;z-index: -1;}#sk-container-id-1 div.sk-parallel-item {display: flex;flex-direction: column;z-index: 1;position: relative;background-color: white;}#sk-container-id-1 div.sk-parallel-item:first-child::after {align-self: flex-end;width: 50%;}#sk-container-id-1 div.sk-parallel-item:last-child::after {align-self: flex-start;width: 50%;}#sk-container-id-1 div.sk-parallel-item:only-child::after {width: 0;}#sk-container-id-1 div.sk-dashed-wrapped {border: 1px dashed gray;margin: 0 0.4em 0.5em 0.4em;box-sizing: border-box;padding-bottom: 0.4em;background-color: white;}#sk-container-id-1 div.sk-label label {font-family: monospace;font-weight: bold;display: inline-block;line-height: 1.2em;}#sk-container-id-1 div.sk-label-container {text-align: center;}#sk-container-id-1 div.sk-container {/* jupyter's `normalize.less` sets `[hidden] { display: none; }` but bootstrap.min.css set `[hidden] { display: none !important; }` so we also need the `!important` here to be able to override the default hidden behavior on the sphinx rendered scikit-learn.org. See: https://github.com/scikit-learn/scikit-learn/issues/21755 */display: inline-block !important;position: relative;}#sk-container-id-1 div.sk-text-repr-fallback {display: none;}</style><div id=\"sk-container-id-1\" class=\"sk-top-container\"><div class=\"sk-text-repr-fallback\"><pre>KMeans(n_clusters=2)</pre><b>In a Jupyter environment, please rerun this cell to show the HTML representation or trust the notebook. <br />On GitHub, the HTML representation is unable to render, please try loading this page with nbviewer.org.</b></div><div class=\"sk-container\" hidden><div class=\"sk-item\"><div class=\"sk-estimator sk-toggleable\"><input class=\"sk-toggleable__control sk-hidden--visually\" id=\"sk-estimator-id-1\" type=\"checkbox\" checked><label for=\"sk-estimator-id-1\" class=\"sk-toggleable__label sk-toggleable__label-arrow\">KMeans</label><div class=\"sk-toggleable__content\"><pre>KMeans(n_clusters=2)</pre></div></div></div></div></div>"
      ],
      "text/plain": [
       "KMeans(n_clusters=2)"
      ]
     },
     "execution_count": 10,
     "metadata": {},
     "output_type": "execute_result"
    }
   ],
   "source": [
    "# Perform clustering\n",
    "k = 2 # Define the number of clusters\n",
    "km = KMeans(n_clusters=k)\n",
    "km.fit(X)"
   ]
  },
  {
   "cell_type": "code",
   "execution_count": 11,
   "id": "c86397be",
   "metadata": {},
   "outputs": [],
   "source": [
    "# Predict the clusters for each document\n",
    "y_pred = km.predict(X)"
   ]
  },
  {
   "cell_type": "code",
   "execution_count": 12,
   "id": "10d9c1c9",
   "metadata": {},
   "outputs": [
    {
     "name": "stdout",
     "output_type": "stream",
     "text": [
      "Document                                           Predicted Cluster\n",
      "-----------------------------------------------  -------------------\n",
      "I love playing football on the weekends                            0\n",
      "I enjoy hiking and camping in the mountains                        0\n",
      "I like to read books and watch movies                              1\n",
      "I prefer playing video games over sports                           0\n",
      "I love listening to music and going to concerts                    1\n"
     ]
    }
   ],
   "source": [
    "# Display the document and its predicted cluster in a table\n",
    "table_data = [[\"Document\", \"Predicted Cluster\"]]\n",
    "table_data.extend([[doc, cluster] for doc, cluster in zip(dataset, y_pred)])\n",
    "print(tabulate(table_data, headers=\"firstrow\"))"
   ]
  },
  {
   "cell_type": "code",
   "execution_count": 13,
   "id": "99c62da4",
   "metadata": {},
   "outputs": [
    {
     "name": "stdout",
     "output_type": "stream",
     "text": [
      "\n",
      "Top terms per cluster:\n",
      "Cluster 0:\n",
      " playing\n",
      " the\n",
      " weekends\n",
      " on\n",
      " football\n",
      " video\n",
      " sports\n",
      " prefer\n",
      " over\n",
      " games\n",
      "\n",
      "Cluster 1:\n",
      " to\n",
      " and\n",
      " read\n",
      " watch\n",
      " movies\n",
      " like\n",
      " books\n",
      " concerts\n",
      " going\n",
      " music\n",
      "\n"
     ]
    }
   ],
   "source": [
    "# Print top terms per cluster\n",
    "print(\"\\nTop terms per cluster:\")\n",
    "order_centroids = km.cluster_centers_.argsort()[:, ::-1]\n",
    "terms = vectorizer.get_feature_names_out()\n",
    "for i in range(k):\n",
    "    print(\"Cluster %d:\" % i)\n",
    "    for ind in order_centroids[i, :10]:\n",
    "        print(' %s' % terms[ind])\n",
    "    print()"
   ]
  },
  {
   "cell_type": "markdown",
   "id": "ce37e3a0",
   "metadata": {},
   "source": [
    "## Using Preprocessing Dataset"
   ]
  },
  {
   "cell_type": "code",
   "execution_count": 14,
   "id": "0170fd77",
   "metadata": {},
   "outputs": [],
   "source": [
    "# Import required libraries\n",
    "import pandas as pd"
   ]
  },
  {
   "cell_type": "code",
   "execution_count": 15,
   "id": "f41b6d1e",
   "metadata": {},
   "outputs": [
    {
     "data": {
      "text/html": [
       "<div>\n",
       "<style scoped>\n",
       "    .dataframe tbody tr th:only-of-type {\n",
       "        vertical-align: middle;\n",
       "    }\n",
       "\n",
       "    .dataframe tbody tr th {\n",
       "        vertical-align: top;\n",
       "    }\n",
       "\n",
       "    .dataframe thead th {\n",
       "        text-align: right;\n",
       "    }\n",
       "</style>\n",
       "<table border=\"1\" class=\"dataframe\">\n",
       "  <thead>\n",
       "    <tr style=\"text-align: right;\">\n",
       "      <th></th>\n",
       "      <th>author</th>\n",
       "      <th>posted_on</th>\n",
       "      <th>rating</th>\n",
       "      <th>text</th>\n",
       "    </tr>\n",
       "  </thead>\n",
       "  <tbody>\n",
       "    <tr>\n",
       "      <th>0</th>\n",
       "      <td>Alantae of Chesterfeild, MI</td>\n",
       "      <td>Nov. 22, 2016</td>\n",
       "      <td>1</td>\n",
       "      <td>I used to love Comcast. Until all these consta...</td>\n",
       "    </tr>\n",
       "    <tr>\n",
       "      <th>1</th>\n",
       "      <td>Vera of Philadelphia, PA</td>\n",
       "      <td>Nov. 19, 2016</td>\n",
       "      <td>1</td>\n",
       "      <td>I'm so over Comcast! The worst internet provid...</td>\n",
       "    </tr>\n",
       "    <tr>\n",
       "      <th>2</th>\n",
       "      <td>Sarah of Rancho Cordova, CA</td>\n",
       "      <td>Nov. 17, 2016</td>\n",
       "      <td>1</td>\n",
       "      <td>If I could give them a negative star or no sta...</td>\n",
       "    </tr>\n",
       "    <tr>\n",
       "      <th>3</th>\n",
       "      <td>Dennis of Manchester, NH</td>\n",
       "      <td>Nov. 16, 2016</td>\n",
       "      <td>1</td>\n",
       "      <td>I've had the worst experiences so far since in...</td>\n",
       "    </tr>\n",
       "    <tr>\n",
       "      <th>4</th>\n",
       "      <td>Ryan of Bellevue, WA</td>\n",
       "      <td>Nov. 14, 2016</td>\n",
       "      <td>1</td>\n",
       "      <td>Check your contract when you sign up for Comca...</td>\n",
       "    </tr>\n",
       "    <tr>\n",
       "      <th>5</th>\n",
       "      <td>Terri of Mobile, AL</td>\n",
       "      <td>Nov. 9, 2016</td>\n",
       "      <td>1</td>\n",
       "      <td>Thank God. I am changing to Dish. They gave me...</td>\n",
       "    </tr>\n",
       "    <tr>\n",
       "      <th>6</th>\n",
       "      <td>Kellie of Salt Lake City, UT</td>\n",
       "      <td>Nov. 9, 2016</td>\n",
       "      <td>1</td>\n",
       "      <td>I Have been a long time customer and only have...</td>\n",
       "    </tr>\n",
       "    <tr>\n",
       "      <th>7</th>\n",
       "      <td>Kathleen of New Haven, CT</td>\n",
       "      <td>Nov. 6, 2016</td>\n",
       "      <td>2</td>\n",
       "      <td>There is a malfunction on the DVR manager whic...</td>\n",
       "    </tr>\n",
       "    <tr>\n",
       "      <th>8</th>\n",
       "      <td>Shira of Bloomfield, NJ</td>\n",
       "      <td>Nov. 5, 2016</td>\n",
       "      <td>1</td>\n",
       "      <td>Charges overwhelming. Comcast service rep was ...</td>\n",
       "    </tr>\n",
       "    <tr>\n",
       "      <th>9</th>\n",
       "      <td>Kristy of Alpharetta, GA</td>\n",
       "      <td>Nov. 2, 2016</td>\n",
       "      <td>1</td>\n",
       "      <td>I have had cable, DISH, and U-verse, etc. in t...</td>\n",
       "    </tr>\n",
       "    <tr>\n",
       "      <th>10</th>\n",
       "      <td>Melissa of Katy, TX</td>\n",
       "      <td>Nov. 1, 2016</td>\n",
       "      <td>1</td>\n",
       "      <td>Had them from 2014 to now. I'd tell new custom...</td>\n",
       "    </tr>\n",
       "    <tr>\n",
       "      <th>11</th>\n",
       "      <td>Lori of Huntsville, AL</td>\n",
       "      <td>Nov. 1, 2016</td>\n",
       "      <td>1</td>\n",
       "      <td>Disappointed. I have been a Comcast/Xfinity cu...</td>\n",
       "    </tr>\n",
       "    <tr>\n",
       "      <th>12</th>\n",
       "      <td>Richard of Lauderhill, FL</td>\n",
       "      <td>Oct. 31, 2016</td>\n",
       "      <td>1</td>\n",
       "      <td>These people are unethical and disturbing obli...</td>\n",
       "    </tr>\n",
       "    <tr>\n",
       "      <th>13</th>\n",
       "      <td>Liz of Eden Prairie, MN</td>\n",
       "      <td>Oct. 31, 2016</td>\n",
       "      <td>1</td>\n",
       "      <td>Unplanned, unexpected, all day outages, rude s...</td>\n",
       "    </tr>\n",
       "    <tr>\n",
       "      <th>14</th>\n",
       "      <td>Meta of Thornton, CO</td>\n",
       "      <td>Oct. 30, 2016</td>\n",
       "      <td>1</td>\n",
       "      <td>BE WARNED. You will have 10$ hidden fees when ...</td>\n",
       "    </tr>\n",
       "    <tr>\n",
       "      <th>15</th>\n",
       "      <td>Emma of Medford, MA</td>\n",
       "      <td>Oct. 29, 2016</td>\n",
       "      <td>1</td>\n",
       "      <td>Had Comcast. Overall the terrible experience e...</td>\n",
       "    </tr>\n",
       "    <tr>\n",
       "      <th>16</th>\n",
       "      <td>Marc of Bellingham, WA</td>\n",
       "      <td>Oct. 29, 2016</td>\n",
       "      <td>1</td>\n",
       "      <td>When I called the infinity customer service ce...</td>\n",
       "    </tr>\n",
       "    <tr>\n",
       "      <th>17</th>\n",
       "      <td>Tyneshia of Murfreesboro, TN</td>\n",
       "      <td>Oct. 27, 2016</td>\n",
       "      <td>1</td>\n",
       "      <td>Outraged, that it should not take a month to g...</td>\n",
       "    </tr>\n",
       "    <tr>\n",
       "      <th>18</th>\n",
       "      <td>Donnie of Lawrenceville, GA</td>\n",
       "      <td>Oct. 27, 2016</td>\n",
       "      <td>1</td>\n",
       "      <td>We got Xfinity on the first of July 2016. In t...</td>\n",
       "    </tr>\n",
       "  </tbody>\n",
       "</table>\n",
       "</div>"
      ],
      "text/plain": [
       "                          author      posted_on  rating  \\\n",
       "0    Alantae of Chesterfeild, MI  Nov. 22, 2016       1   \n",
       "1       Vera of Philadelphia, PA  Nov. 19, 2016       1   \n",
       "2    Sarah of Rancho Cordova, CA  Nov. 17, 2016       1   \n",
       "3       Dennis of Manchester, NH  Nov. 16, 2016       1   \n",
       "4           Ryan of Bellevue, WA  Nov. 14, 2016       1   \n",
       "5            Terri of Mobile, AL   Nov. 9, 2016       1   \n",
       "6   Kellie of Salt Lake City, UT   Nov. 9, 2016       1   \n",
       "7      Kathleen of New Haven, CT   Nov. 6, 2016       2   \n",
       "8        Shira of Bloomfield, NJ   Nov. 5, 2016       1   \n",
       "9       Kristy of Alpharetta, GA   Nov. 2, 2016       1   \n",
       "10           Melissa of Katy, TX   Nov. 1, 2016       1   \n",
       "11        Lori of Huntsville, AL   Nov. 1, 2016       1   \n",
       "12     Richard of Lauderhill, FL  Oct. 31, 2016       1   \n",
       "13       Liz of Eden Prairie, MN  Oct. 31, 2016       1   \n",
       "14          Meta of Thornton, CO  Oct. 30, 2016       1   \n",
       "15           Emma of Medford, MA  Oct. 29, 2016       1   \n",
       "16        Marc of Bellingham, WA  Oct. 29, 2016       1   \n",
       "17  Tyneshia of Murfreesboro, TN  Oct. 27, 2016       1   \n",
       "18   Donnie of Lawrenceville, GA  Oct. 27, 2016       1   \n",
       "\n",
       "                                                 text  \n",
       "0   I used to love Comcast. Until all these consta...  \n",
       "1   I'm so over Comcast! The worst internet provid...  \n",
       "2   If I could give them a negative star or no sta...  \n",
       "3   I've had the worst experiences so far since in...  \n",
       "4   Check your contract when you sign up for Comca...  \n",
       "5   Thank God. I am changing to Dish. They gave me...  \n",
       "6   I Have been a long time customer and only have...  \n",
       "7   There is a malfunction on the DVR manager whic...  \n",
       "8   Charges overwhelming. Comcast service rep was ...  \n",
       "9   I have had cable, DISH, and U-verse, etc. in t...  \n",
       "10  Had them from 2014 to now. I'd tell new custom...  \n",
       "11  Disappointed. I have been a Comcast/Xfinity cu...  \n",
       "12  These people are unethical and disturbing obli...  \n",
       "13  Unplanned, unexpected, all day outages, rude s...  \n",
       "14  BE WARNED. You will have 10$ hidden fees when ...  \n",
       "15  Had Comcast. Overall the terrible experience e...  \n",
       "16  When I called the infinity customer service ce...  \n",
       "17  Outraged, that it should not take a month to g...  \n",
       "18  We got Xfinity on the first of July 2016. In t...  "
      ]
     },
     "execution_count": 15,
     "metadata": {},
     "output_type": "execute_result"
    }
   ],
   "source": [
    "data = pd.read_csv(\"customer_complaints_1.csv\")\n",
    "data"
   ]
  },
  {
   "cell_type": "code",
   "execution_count": 16,
   "id": "f25e0af0",
   "metadata": {},
   "outputs": [
    {
     "data": {
      "text/plain": [
       "(19, 4)"
      ]
     },
     "execution_count": 16,
     "metadata": {},
     "output_type": "execute_result"
    }
   ],
   "source": [
    "# Check number of rows and columns\n",
    "data.shape"
   ]
  },
  {
   "cell_type": "markdown",
   "id": "b253fd21",
   "metadata": {},
   "source": [
    "### Data Preprocessing"
   ]
  },
  {
   "cell_type": "markdown",
   "id": "6639446c",
   "metadata": {},
   "source": [
    "#### Remove Duplicates"
   ]
  },
  {
   "cell_type": "code",
   "execution_count": 17,
   "id": "97d850c0",
   "metadata": {},
   "outputs": [
    {
     "data": {
      "text/plain": [
       "0    I used to love Comcast. Until all these consta...\n",
       "1    I'm so over Comcast! The worst internet provid...\n",
       "2    If I could give them a negative star or no sta...\n",
       "3    I've had the worst experiences so far since in...\n",
       "4    Check your contract when you sign up for Comca...\n",
       "Name: text, dtype: object"
      ]
     },
     "execution_count": 17,
     "metadata": {},
     "output_type": "execute_result"
    }
   ],
   "source": [
    "data_t = data['text']\n",
    "data_t.head()"
   ]
  },
  {
   "cell_type": "code",
   "execution_count": 18,
   "id": "ee7d8809",
   "metadata": {},
   "outputs": [
    {
     "name": "stdout",
     "output_type": "stream",
     "text": [
      "0\n"
     ]
    }
   ],
   "source": [
    "# Check number of duplicates in 'Text' column\n",
    "data_t_duplicates = data_t.duplicated()\n",
    "print(data_t_duplicates.sum())"
   ]
  },
  {
   "cell_type": "markdown",
   "id": "81263f83",
   "metadata": {},
   "source": [
    "#### Data Cleaning & Standardization"
   ]
  },
  {
   "cell_type": "code",
   "execution_count": 19,
   "id": "d49f3bfd",
   "metadata": {},
   "outputs": [],
   "source": [
    "# Import required libraries for data cleaning and standardization\n",
    "import re\n",
    "import string"
   ]
  },
  {
   "cell_type": "code",
   "execution_count": 20,
   "id": "75ad9959",
   "metadata": {},
   "outputs": [],
   "source": [
    "def get_cleaned_textdata(sentence):\n",
    "    modified_sentence = re.sub(r'<.*?>',' ', sentence)\n",
    "    modified_sentence = ''.join([i if i not in string.punctuation else ' ' for i in modified_sentence])\n",
    "    modified_sentence = re.sub(r'\\d+', ' ', modified_sentence)\n",
    "    modified_sentence = re.sub(r'\\s+', ' ', modified_sentence)\n",
    "    modified_sentence = modified_sentence.lower()\n",
    "    return modified_sentence"
   ]
  },
  {
   "cell_type": "code",
   "execution_count": 21,
   "id": "0a4496bf",
   "metadata": {},
   "outputs": [],
   "source": [
    "data_t_clean = data_t.apply(get_cleaned_textdata)"
   ]
  },
  {
   "cell_type": "code",
   "execution_count": 22,
   "id": "71e7310d",
   "metadata": {},
   "outputs": [
    {
     "name": "stdout",
     "output_type": "stream",
     "text": [
      "I used to love Comcast. Until all these constant updates. My internet and cable crash a lot at night, and sometimes during the day, some channels don't even work and on demand sometimes don't play either. I wish they will do something about it. Because just a few mins ago, the internet have crashed for about 20 mins for no reason. I'm tired of it and thinking about switching to Wow or something. Please do not get Xfinity.\n"
     ]
    }
   ],
   "source": [
    "print(data_t[0])"
   ]
  },
  {
   "cell_type": "markdown",
   "id": "c69cb539",
   "metadata": {},
   "source": [
    "#### Tokenization"
   ]
  },
  {
   "cell_type": "code",
   "execution_count": 23,
   "id": "f105fa85",
   "metadata": {},
   "outputs": [],
   "source": [
    "import nltk\n",
    "from nltk.tokenize import word_tokenize"
   ]
  },
  {
   "cell_type": "code",
   "execution_count": 24,
   "id": "99850954",
   "metadata": {},
   "outputs": [],
   "source": [
    "data_token = data_t_clean.apply(word_tokenize)"
   ]
  },
  {
   "cell_type": "code",
   "execution_count": 25,
   "id": "34634be4",
   "metadata": {},
   "outputs": [
    {
     "name": "stdout",
     "output_type": "stream",
     "text": [
      "['i', 'used', 'to', 'love', 'comcast', 'until', 'all', 'these', 'constant', 'updates', 'my', 'internet', 'and', 'cable', 'crash', 'a', 'lot', 'at', 'night', 'and', 'sometimes', 'during', 'the', 'day', 'some', 'channels', 'don', 't', 'even', 'work', 'and', 'on', 'demand', 'sometimes', 'don', 't', 'play', 'either', 'i', 'wish', 'they', 'will', 'do', 'something', 'about', 'it', 'because', 'just', 'a', 'few', 'mins', 'ago', 'the', 'internet', 'have', 'crashed', 'for', 'about', 'mins', 'for', 'no', 'reason', 'i', 'm', 'tired', 'of', 'it', 'and', 'thinking', 'about', 'switching', 'to', 'wow', 'or', 'something', 'please', 'do', 'not', 'get', 'xfinity']\n"
     ]
    }
   ],
   "source": [
    "# Check result of tokenization\n",
    "print(data_token[0])"
   ]
  },
  {
   "cell_type": "markdown",
   "id": "4a780c19",
   "metadata": {},
   "source": [
    "#### Remove Stopwords"
   ]
  },
  {
   "cell_type": "code",
   "execution_count": 26,
   "id": "4937c117",
   "metadata": {},
   "outputs": [],
   "source": [
    "stopwords = nltk.corpus.stopwords.words('english')"
   ]
  },
  {
   "cell_type": "code",
   "execution_count": 27,
   "id": "5e25d369",
   "metadata": {},
   "outputs": [],
   "source": [
    "def remove_stopwords(text):\n",
    "    output = []\n",
    "    for i in text:\n",
    "        if i not in stopwords:\n",
    "            output.append(i)\n",
    "    return output"
   ]
  },
  {
   "cell_type": "code",
   "execution_count": 28,
   "id": "ff422a8d",
   "metadata": {},
   "outputs": [],
   "source": [
    "data_xstopwords = data_token.apply(remove_stopwords)"
   ]
  },
  {
   "cell_type": "code",
   "execution_count": 29,
   "id": "56fc1dd7",
   "metadata": {},
   "outputs": [
    {
     "name": "stdout",
     "output_type": "stream",
     "text": [
      "['used', 'love', 'comcast', 'constant', 'updates', 'internet', 'cable', 'crash', 'lot', 'night', 'sometimes', 'day', 'channels', 'even', 'work', 'demand', 'sometimes', 'play', 'either', 'wish', 'something', 'mins', 'ago', 'internet', 'crashed', 'mins', 'reason', 'tired', 'thinking', 'switching', 'wow', 'something', 'please', 'get', 'xfinity']\n"
     ]
    }
   ],
   "source": [
    "print(data_xstopwords[0])"
   ]
  },
  {
   "cell_type": "markdown",
   "id": "5ce7e3ea",
   "metadata": {},
   "source": [
    "#### Stemming"
   ]
  },
  {
   "cell_type": "code",
   "execution_count": 30,
   "id": "41788b90",
   "metadata": {},
   "outputs": [],
   "source": [
    "from nltk.stem.porter import PorterStemmer"
   ]
  },
  {
   "cell_type": "code",
   "execution_count": 31,
   "id": "d268d609",
   "metadata": {},
   "outputs": [],
   "source": [
    "porter_stemmer = PorterStemmer()"
   ]
  },
  {
   "cell_type": "code",
   "execution_count": 32,
   "id": "56b1569f",
   "metadata": {},
   "outputs": [],
   "source": [
    "def porter_stemming(text):\n",
    "    stem_text = []\n",
    "    for word in text:\n",
    "        stemmed_word = porter_stemmer.stem(word)\n",
    "        stem_text.append(stemmed_word)\n",
    "    return stem_text"
   ]
  },
  {
   "cell_type": "code",
   "execution_count": 33,
   "id": "1963b707",
   "metadata": {},
   "outputs": [],
   "source": [
    "data_porterstem = data_xstopwords.apply(porter_stemming)"
   ]
  },
  {
   "cell_type": "code",
   "execution_count": 34,
   "id": "b165aa0f",
   "metadata": {},
   "outputs": [
    {
     "name": "stdout",
     "output_type": "stream",
     "text": [
      "['use', 'love', 'comcast', 'constant', 'updat', 'internet', 'cabl', 'crash', 'lot', 'night', 'sometim', 'day', 'channel', 'even', 'work', 'demand', 'sometim', 'play', 'either', 'wish', 'someth', 'min', 'ago', 'internet', 'crash', 'min', 'reason', 'tire', 'think', 'switch', 'wow', 'someth', 'pleas', 'get', 'xfiniti']\n"
     ]
    }
   ],
   "source": [
    "print(data_porterstem[0])"
   ]
  },
  {
   "cell_type": "markdown",
   "id": "0a77768e",
   "metadata": {},
   "source": [
    "#### Lemmatization"
   ]
  },
  {
   "cell_type": "code",
   "execution_count": 35,
   "id": "5786d943",
   "metadata": {},
   "outputs": [],
   "source": [
    "from nltk.stem import WordNetLemmatizer"
   ]
  },
  {
   "cell_type": "code",
   "execution_count": 36,
   "id": "7c9a5810",
   "metadata": {},
   "outputs": [],
   "source": [
    "wordnet_lemmatizer = WordNetLemmatizer()"
   ]
  },
  {
   "cell_type": "code",
   "execution_count": 37,
   "id": "3ffbc50d",
   "metadata": {},
   "outputs": [],
   "source": [
    "def lemmatizer(text):\n",
    "    lemm_text = []\n",
    "    for word in text:\n",
    "        lemmatized_word = wordnet_lemmatizer.lemmatize(word)\n",
    "        lemm_text.append(lemmatized_word)\n",
    "    return lemm_text"
   ]
  },
  {
   "cell_type": "code",
   "execution_count": 44,
   "id": "8966af1d",
   "metadata": {},
   "outputs": [],
   "source": [
    "data_lemm = data_porterstem.apply(lemmatizer)"
   ]
  },
  {
   "cell_type": "code",
   "execution_count": 47,
   "id": "0da907e0",
   "metadata": {},
   "outputs": [
    {
     "name": "stdout",
     "output_type": "stream",
     "text": [
      "0     [use, love, comcast, constant, updat, internet...\n",
      "1     [comcast, worst, internet, provid, take, onlin...\n",
      "2     [could, give, neg, star, star, review, would, ...\n",
      "3     [worst, experi, far, sinc, instal, noth, probl...\n",
      "4     [check, contract, sign, comcast, advertis, off...\n",
      "5     [thank, god, chang, dish, gave, awesom, price,...\n",
      "6     [long, time, custom, xfiniti, isp, local, walm...\n",
      "7     [malfunct, dvr, manag, prevent, u, ad, record,...\n",
      "8     [charg, overwhelm, comcast, servic, rep, ignor...\n",
      "9     [cabl, dish, u, vers, etc, past, eh, know, com...\n",
      "10    [tell, new, custom, run, nowher, run, tri, tur...\n",
      "11    [disappoint, comcast, xfiniti, custom, almost,...\n",
      "12    [peopl, uneth, disturb, oblivi, custom, need, ...\n",
      "13    [unplan, unexpect, day, outag, rude, servic, r...\n",
      "14    [warn, hidden, fee, sign, servic, charg, extra...\n",
      "15    [comcast, overal, terribl, experi, everyon, el...\n",
      "16    [call, infin, custom, servic, center, complain...\n",
      "17    [outrag, take, month, get, internet, servic, c...\n",
      "18    [got, xfiniti, first, juli, first, week, half,...\n",
      "Name: text, dtype: object\n"
     ]
    }
   ],
   "source": [
    "print(data_lemm)"
   ]
  },
  {
   "cell_type": "markdown",
   "id": "ae6a2bc9",
   "metadata": {},
   "source": [
    "### Data Process"
   ]
  },
  {
   "cell_type": "code",
   "execution_count": 56,
   "id": "102ab6c1",
   "metadata": {},
   "outputs": [],
   "source": [
    "lemmatized_text = [' '.join(tokens) for tokens in data_lemm]"
   ]
  },
  {
   "cell_type": "code",
   "execution_count": 58,
   "id": "0702a2d2",
   "metadata": {},
   "outputs": [],
   "source": [
    "# Vectorize the dataset\n",
    "vectorizer = TfidfVectorizer()\n",
    "X = vectorizer.fit_transform(lemmatized_text)"
   ]
  },
  {
   "cell_type": "code",
   "execution_count": 63,
   "id": "2f2cb834",
   "metadata": {},
   "outputs": [
    {
     "data": {
      "text/html": [
       "<style>#sk-container-id-4 {color: black;background-color: white;}#sk-container-id-4 pre{padding: 0;}#sk-container-id-4 div.sk-toggleable {background-color: white;}#sk-container-id-4 label.sk-toggleable__label {cursor: pointer;display: block;width: 100%;margin-bottom: 0;padding: 0.3em;box-sizing: border-box;text-align: center;}#sk-container-id-4 label.sk-toggleable__label-arrow:before {content: \"▸\";float: left;margin-right: 0.25em;color: #696969;}#sk-container-id-4 label.sk-toggleable__label-arrow:hover:before {color: black;}#sk-container-id-4 div.sk-estimator:hover label.sk-toggleable__label-arrow:before {color: black;}#sk-container-id-4 div.sk-toggleable__content {max-height: 0;max-width: 0;overflow: hidden;text-align: left;background-color: #f0f8ff;}#sk-container-id-4 div.sk-toggleable__content pre {margin: 0.2em;color: black;border-radius: 0.25em;background-color: #f0f8ff;}#sk-container-id-4 input.sk-toggleable__control:checked~div.sk-toggleable__content {max-height: 200px;max-width: 100%;overflow: auto;}#sk-container-id-4 input.sk-toggleable__control:checked~label.sk-toggleable__label-arrow:before {content: \"▾\";}#sk-container-id-4 div.sk-estimator input.sk-toggleable__control:checked~label.sk-toggleable__label {background-color: #d4ebff;}#sk-container-id-4 div.sk-label input.sk-toggleable__control:checked~label.sk-toggleable__label {background-color: #d4ebff;}#sk-container-id-4 input.sk-hidden--visually {border: 0;clip: rect(1px 1px 1px 1px);clip: rect(1px, 1px, 1px, 1px);height: 1px;margin: -1px;overflow: hidden;padding: 0;position: absolute;width: 1px;}#sk-container-id-4 div.sk-estimator {font-family: monospace;background-color: #f0f8ff;border: 1px dotted black;border-radius: 0.25em;box-sizing: border-box;margin-bottom: 0.5em;}#sk-container-id-4 div.sk-estimator:hover {background-color: #d4ebff;}#sk-container-id-4 div.sk-parallel-item::after {content: \"\";width: 100%;border-bottom: 1px solid gray;flex-grow: 1;}#sk-container-id-4 div.sk-label:hover label.sk-toggleable__label {background-color: #d4ebff;}#sk-container-id-4 div.sk-serial::before {content: \"\";position: absolute;border-left: 1px solid gray;box-sizing: border-box;top: 0;bottom: 0;left: 50%;z-index: 0;}#sk-container-id-4 div.sk-serial {display: flex;flex-direction: column;align-items: center;background-color: white;padding-right: 0.2em;padding-left: 0.2em;position: relative;}#sk-container-id-4 div.sk-item {position: relative;z-index: 1;}#sk-container-id-4 div.sk-parallel {display: flex;align-items: stretch;justify-content: center;background-color: white;position: relative;}#sk-container-id-4 div.sk-item::before, #sk-container-id-4 div.sk-parallel-item::before {content: \"\";position: absolute;border-left: 1px solid gray;box-sizing: border-box;top: 0;bottom: 0;left: 50%;z-index: -1;}#sk-container-id-4 div.sk-parallel-item {display: flex;flex-direction: column;z-index: 1;position: relative;background-color: white;}#sk-container-id-4 div.sk-parallel-item:first-child::after {align-self: flex-end;width: 50%;}#sk-container-id-4 div.sk-parallel-item:last-child::after {align-self: flex-start;width: 50%;}#sk-container-id-4 div.sk-parallel-item:only-child::after {width: 0;}#sk-container-id-4 div.sk-dashed-wrapped {border: 1px dashed gray;margin: 0 0.4em 0.5em 0.4em;box-sizing: border-box;padding-bottom: 0.4em;background-color: white;}#sk-container-id-4 div.sk-label label {font-family: monospace;font-weight: bold;display: inline-block;line-height: 1.2em;}#sk-container-id-4 div.sk-label-container {text-align: center;}#sk-container-id-4 div.sk-container {/* jupyter's `normalize.less` sets `[hidden] { display: none; }` but bootstrap.min.css set `[hidden] { display: none !important; }` so we also need the `!important` here to be able to override the default hidden behavior on the sphinx rendered scikit-learn.org. See: https://github.com/scikit-learn/scikit-learn/issues/21755 */display: inline-block !important;position: relative;}#sk-container-id-4 div.sk-text-repr-fallback {display: none;}</style><div id=\"sk-container-id-4\" class=\"sk-top-container\"><div class=\"sk-text-repr-fallback\"><pre>KMeans(n_clusters=3)</pre><b>In a Jupyter environment, please rerun this cell to show the HTML representation or trust the notebook. <br />On GitHub, the HTML representation is unable to render, please try loading this page with nbviewer.org.</b></div><div class=\"sk-container\" hidden><div class=\"sk-item\"><div class=\"sk-estimator sk-toggleable\"><input class=\"sk-toggleable__control sk-hidden--visually\" id=\"sk-estimator-id-4\" type=\"checkbox\" checked><label for=\"sk-estimator-id-4\" class=\"sk-toggleable__label sk-toggleable__label-arrow\">KMeans</label><div class=\"sk-toggleable__content\"><pre>KMeans(n_clusters=3)</pre></div></div></div></div></div>"
      ],
      "text/plain": [
       "KMeans(n_clusters=3)"
      ]
     },
     "execution_count": 63,
     "metadata": {},
     "output_type": "execute_result"
    }
   ],
   "source": [
    "# Perform clustering\n",
    "k = 3 # Define the number of clusters\n",
    "km = KMeans(n_clusters=k)\n",
    "km.fit(X)"
   ]
  },
  {
   "cell_type": "code",
   "execution_count": 64,
   "id": "9bd1c269",
   "metadata": {},
   "outputs": [],
   "source": [
    "# Predict the clusters for each document\n",
    "y_pred = km.predict(X)"
   ]
  },
  {
   "cell_type": "code",
   "execution_count": 65,
   "id": "9b127e0b",
   "metadata": {
    "scrolled": false
   },
   "outputs": [
    {
     "name": "stdout",
     "output_type": "stream",
     "text": [
      "Document                                                                                                                                                                                                                                                                                                                                                                                                                                                                                                                                                                                                                                                                                                                                                                                                                                                                                                                                                                                                                                                                                                                                                                                                                                                                                                                                                                                                                                                                                                                                                                                                                                                                                                                                                                                                                                                                                 Predicted Cluster\n",
      "-------------------------------------------------------------------------------------------------------------------------------------------------------------------------------------------------------------------------------------------------------------------------------------------------------------------------------------------------------------------------------------------------------------------------------------------------------------------------------------------------------------------------------------------------------------------------------------------------------------------------------------------------------------------------------------------------------------------------------------------------------------------------------------------------------------------------------------------------------------------------------------------------------------------------------------------------------------------------------------------------------------------------------------------------------------------------------------------------------------------------------------------------------------------------------------------------------------------------------------------------------------------------------------------------------------------------------------------------------------------------------------------------------------------------------------------------------------------------------------------------------------------------------------------------------------------------------------------------------------------------------------------------------------------------------------------------------------------------------------------------------------------------------------------------------------------------------------------------------------------------------------  -------------------\n",
      "use love comcast constant updat internet cabl crash lot night sometim day channel even work demand sometim play either wish someth min ago internet crash min reason tire think switch wow someth plea get xfiniti                                                                                                                                                                                                                                                                                                                                                                                                                                                                                                                                                                                                                                                                                                                                                                                                                                                                                                                                                                                                                                                                                                                                                                                                                                                                                                                                                                                                                                                                                                                                                                                                                                                                                       2\n",
      "comcast worst internet provid take onlin class multipl time late assign power interrupt area lead poor qualiti internet servic definit switch verizon rather pay extra deal w comcast non stop internet problem                                                                                                                                                                                                                                                                                                                                                                                                                                                                                                                                                                                                                                                                                                                                                                                                                                                                                                                                                                                                                                                                                                                                                                                                                                                                                                                                                                                                                                                                                                                                                                                                                                                                                          2\n",
      "could give neg star star review would never work industri bad custom servic comcast matter money make well enough beyond afford servic legitim ripoff think biggest scam sinc mortgag industri major meltdown hope move somewher comcast exist disregard want help right thing honestli astound call issu bill connect servic ad remov servic error matter transfer minimum time everyon say thing pas issu next person one resolv problem offer promot packag small timefram never access upgrad without wish chang bill month overcharg month sinc start blatant rude must make qualifi job type qualiti servic get review dear comcast suck sincer custom wait never use servic                                                                                                                                                                                                                                                                                                                                                                                                                                                                                                                                                                                                                                                                                                                                                                                                                                                                                                                                                                                                                                                                                                                                                                                                                       1\n",
      "worst experi far sinc instal noth problem two show schedul servic appoint extrem difficulti ad box second floor difficult ad box exist account thank start second account second floor hous separ bundl packag want add box appar possibl well guess possibl remain custom                                                                                                                                                                                                                                                                                                                                                                                                                                                                                                                                                                                                                                                                                                                                                                                                                                                                                                                                                                                                                                                                                                                                                                                                                                                                                                                                                                                                                                                                                                                                                                                                                               1\n",
      "check contract sign comcast advertis offer match contract issu sign mbp internet year howev contract mbp internet year say add place boost blast pro howev part contract mean comcast increas price whenev want within year mean receiv advertis rate comcast far refus issu correct contract issu write remain price year trust watch comcast usual illeg practic guess catch peopl hope notic end pay                                                                                                                                                                                                                                                                                                                                                                                                                                                                                                                                                                                                                                                                                                                                                                                                                                                                                                                                                                                                                                                                                                                                                                                                                                                                                                                                                                                                                                                                                                  0\n",
      "thank god chang dish gave awesom price super peopl deal actual understand say excit final abl return equip although still receiv home secur yet promis time go h comcast made miser caus miss mani hour work promis                                                                                                                                                                                                                                                                                                                                                                                                                                                                                                                                                                                                                                                                                                                                                                                                                                                                                                                                                                                                                                                                                                                                                                                                                                                                                                                                                                                                                                                                                                                                                                                                                                                                                      2\n",
      "long time custom xfiniti isp local walmart novemb custom repres xfiniti run promot salt lake citi area spoke repres abl get sign contract pro blast month contract earli termin fee receiv email xfiniti state chang would made account state would contract month would earli termin fee origin sign specif state contract sign contact xfiniti custom servic told sinc see contract phone would need go xfiniti store person went xfiniti store novemb told would contract way around cancel upgrad went back origin plan plain simpl contract sign honor state xfiniti dishonest trustworthi therefor look chang isp soon possibl anoth compani xfiniti deserv paycheck anyon el know                                                                                                                                                                                                                                                                                                                                                                                                                                                                                                                                                                                                                                                                                                                                                                                                                                                                                                                                                                                                                                                                                                                                                                                                                 0\n",
      "malfunct dvr manag prevent u ad record custom servic fairli certain problem signal system protocol demand access home investig option sinc work done next saturday custom servic tech agre seem illog sinc logic would dictat one would investig probabl malfunct first insist must follow protocol extrem frustrat year custom comcast predecessor investig altern                                                                                                                                                                                                                                                                                                                                                                                                                                                                                                                                                                                                                                                                                                                                                                                                                                                                                                                                                                                                                                                                                                                                                                                                                                                                                                                                                                                                                                                                                                                                      1\n",
      "charg overwhelm comcast servic rep ignor rude call resolv issu bill email tom rep rude none repres help pas peopl cut servic comcast                                                                                                                                                                                                                                                                                                                                                                                                                                                                                                                                                                                                                                                                                                                                                                                                                                                                                                                                                                                                                                                                                                                                                                                                                                                                                                                                                                                                                                                                                                                                                                                                                                                                                                                                                                     1\n",
      "cabl dish u vers etc past eh know comcast take cake never driven take time day gripe onlin see consum stay away first terribl experi comcast took phone month come buri line lay front yard get cabl need hous final got someon special need neighbor trip fell month contract internet phone tv go hour time would spend hour tech come back technician reset router manual rd th time work home occasion huge inconveni hardwar faulti understand sometim get lemon month month worst compani ever crappi equip terribl custom servic wors technician hire clue comcast send technician switch equip set bonfir                                                                                                                                                                                                                                                                                                                                                                                                                                                                                                                                                                                                                                                                                                                                                                                                                                                                                                                                                                                                                                                                                                                                                                                                                                                                                        2\n",
      "tell new custom run nowher run tri turn comcast xfiniti sign contract mean fine print contract suggest read randomli chang contract say chang anyth anytim anyth wrong disagre perform pro pay speed internet month contract month month alon speed list told got letter friday say tue today forc new contract plan pay data speed cap terabyt seem like lot sign custom servic say deal offer plan speed chang use internet pay fair custom matter fair sign use use firestick stream everyth day frustrat kept say use go unlimit plan got rid directv firestick pay unlimit speed chang pay data huge differ say know chang unless go closest got far charg go first month get use first went talk someon store want talk told need call bill know help explain pay bill get equip minut guy call someon good explain letter know letter someon explain want deal store guy come lie u well tell u letter got sent everyon new custom u whatev know lie leav today call comcast soon call ask call data say ye direct call someon know say read contract noth know anyth need bill put call somewher help run around last guy talk internet around forc pay data even get better speed gyp also wrong got notifi friday tuesday nov st chang take effect                                                                                                                                                                                                                                                                                                                                                                                                                                                                                                                                                                                                                                             0\n",
      "disappoint comcast xfiniti custom almost two decad pay high speed get intermitt internet call everi week almost take time call often get frustrat spend minut first person reset modem walk initi process even give histori told pay technician complain explain transfer specialist speed test confirm say even though test say modem work test port modem new modem replac last week issu tell line issu modem perform correctli technician reprogram port retest work awesom initi get carri data retest technician minut later speed low say need send tech look line cold transfer back xfiniti without warn someon answer start process reset modem charg tech transfer specialist anoth hour wast week last week modern age month would think could work home without distract pay fastest packag mbp download mbp upload receiv random speed throughout day mbp download mbp upload often lower number wireless monitor show drop messag server refresh page lose data regularli anyon help attach sever speed test today call cst consum depend internet provid feel like use call system bulli frustrat custom submiss                                                                                                                                                                                                                                                                                                                                                                                                                                                                                                                                                                                                                                                                                                                                                                         2\n",
      "peopl uneth disturb oblivi custom need internet speed tear constantli chang custom charg internet speed chang instanc blast servic first commiss state comcast mbp see increas bill month speak custom rep told mbp mbp blast month plu fact mbp ad bill servic alreadi told take give mbp without blast told would put mbp shop anoth servic end                                                                                                                                                                                                                                                                                                                                                                                                                                                                                                                                                                                                                                                                                                                                                                                                                                                                                                                                                                                                                                                                                                                                                                                                                                                                                                                                                                                                                                                                                                                                                        0\n",
      "unplan unexpect day outag rude servic rep rearrang day set servic deal total inept technician call backup anoth day could go drop failur compani reli hotspot                                                                                                                                                                                                                                                                                                                                                                                                                                                                                                                                                                                                                                                                                                                                                                                                                                                                                                                                                                                                                                                                                                                                                                                                                                                                                                                                                                                                                                                                                                                                                                                                                                                                                                                                            2\n",
      "warn hidden fee sign servic charg extra local news station fee local sport told see first bill custom servic peopl joke rude rude rude ask manag get snotti never let talk one know attract packag get hook joke pay long run competitor                                                                                                                                                                                                                                                                                                                                                                                                                                                                                                                                                                                                                                                                                                                                                                                                                                                                                                                                                                                                                                                                                                                                                                                                                                                                                                                                                                                                                                                                                                                                                                                                                                                                 0\n",
      "comcast overal terribl experi everyon el describ provid area time dealt ultim move apart area servic provid call cancel account took forev final get take hardwar back store keep receipt deal debt collector month claim owe money return hardwar luckili physic proof honestli would paid whatev sure keep call would deni liabil would get kick differ debt collect agenc someon new would call month later final went away never use comcast best part call custom servic would accident disconnect call hint want cancel servic complain choos option custom servic menu add servic connect agent immedi ultim get connect right depart directli probabl still disconnect time though                                                                                                                                                                                                                                                                                                                                                                                                                                                                                                                                                                                                                                                                                                                                                                                                                                                                                                                                                                                                                                                                                                                                                                                                               1\n",
      "call infin custom servic center complain new slow perform speed first question custom servic ask fast buy previou offer faster servic respond speed plan pay explain custom servic actual test le half custom servic rep said would resend signal router improv speed occur turn hotspot cell phone file complaint get screw comcast xfiniti internet speed pay                                                                                                                                                                                                                                                                                                                                                                                                                                                                                                                                                                                                                                                                                                                                                                                                                                                                                                                                                                                                                                                                                                                                                                                                                                                                                                                                                                                                                                                                                                                                          2\n",
      "outrag take month get internet servic contact comcast st week octob internet servic lucki tech come week came inform u could instal due resid brand new type line cabl set told would call special tech schedul date week burial line next week came differ tech came said anyth caus need burial line told last guy said realli thought burial told u guy set instal modem inform u would drop line special tech burial line would soon internet run next week day neighbour appar get internet comcast well tech stole line hook internet cabl call tech came day drop line told happen ensur u ok special tech would drop anoth line come burial next week came monday tech schedul never show call comcast told u got behind someon would come tuesday tuesday morn tech came told u anyth need burial told stori call bos told u would someon come burial day well one show thursday week phone comcast almost hr morn tell u anoth tech st burial set instal sorri tri give u option well truth option internet servic provid u servic comcast area murfreesboro tn stuck comcast child game system phone tablet mention day school switch app kid homework internet becom need want child get comcast anoth servic could get would definit without comcast servic past worst part custom servic bill tend go price without inform servic work time reset modem almost everyday need better job handl issu custom spend money compani                                                                                                                                                                                                                                                                                                                                                                                                                                                              2\n",
      "got xfiniti first juli first week half internet hour time everi singl day first rep sent fix said feel comfort go crawl space told reschedul anoth rep come call reschedul anoth rep learn rep day put note chang splitter fix problem coupl day later anoth rep come traine ran bunch test eventu fix problem decid add tv secur packag xfiniti big mistak comcast xfiniti everyth work internet cabl secur work internet connect worst setup ever encount internet goe internet longer cabl secur anyway ad cabl secur packag littl month ago time least day week gone sever hour time without internet thu without secur cabl well last coupl night worst yesterday internet went sometim work morn come back pm last night went sometim middl night sinc pm still without servic pay xfiniti field tech worst ever encount tech came instal cabl secur sat phone whole time talk phone buddi suppos get dvr box get one secur bozo set door put keypad next door never get use like call sentri door realiz tri get door coupl day later went set alarm realiz could set alarm insid would automat set alarm yet anoth tech come day later tech fix problem process realiz lot way internet cabl secur wire code proceed fix process someth start whole unreli internet process anoth tech come day later check wire reliabl ensur cabl connect tightli insid outsid even climb power pole said found loo cabl tighten make sure even dispatch bucket truck bucket truck arriv hour later went pole check connect came back tell thing previou tech told would known go headach would settl slower speed internet paid littl bit went reliabl million time better main two differ work dedic fiber optic line xfiniti comcast still work ancient copper wire none servic piggyback servic separ dedic servic wherea xfiniti servic reli internet connect internet goe everyth goe                    2\n"
     ]
    }
   ],
   "source": [
    "# Display the document and its predicted cluster in a table\n",
    "table_data = [[\"Document\", \"Predicted Cluster\"]]\n",
    "table_data.extend([[doc, cluster] for doc, cluster in zip(lemmatized_text, y_pred)])\n",
    "print(tabulate(table_data, headers=\"firstrow\"))"
   ]
  },
  {
   "cell_type": "code",
   "execution_count": 67,
   "id": "d192dbcd",
   "metadata": {},
   "outputs": [
    {
     "name": "stdout",
     "output_type": "stream",
     "text": [
      "\n",
      "Top terms per cluster:\n",
      "Cluster 0:\n",
      " contract\n",
      " mbp\n",
      " sign\n",
      " told\n",
      " chang\n",
      " blast\n",
      " xfiniti\n",
      " custom\n",
      " fee\n",
      " know\n",
      "\n",
      "Cluster 1:\n",
      " servic\n",
      " rude\n",
      " call\n",
      " second\n",
      " comcast\n",
      " would\n",
      " sinc\n",
      " investig\n",
      " custom\n",
      " box\n",
      "\n",
      "Cluster 2:\n",
      " internet\n",
      " day\n",
      " servic\n",
      " comcast\n",
      " speed\n",
      " tech\n",
      " technician\n",
      " cabl\n",
      " time\n",
      " week\n",
      "\n"
     ]
    }
   ],
   "source": [
    "# Print top terms per cluster\n",
    "print(\"\\nTop terms per cluster:\")\n",
    "order_centroids = km.cluster_centers_.argsort()[:, ::-1]\n",
    "terms = vectorizer.get_feature_names_out()\n",
    "for i in range(k):\n",
    "    print(\"Cluster %d:\" % i)\n",
    "    for ind in order_centroids[i, :10]:\n",
    "        print(' %s' % terms[ind])\n",
    "    print()"
   ]
  },
  {
   "cell_type": "code",
   "execution_count": null,
   "id": "85b48dfe",
   "metadata": {},
   "outputs": [],
   "source": []
  },
  {
   "cell_type": "code",
   "execution_count": null,
   "id": "53e54356",
   "metadata": {},
   "outputs": [],
   "source": []
  }
 ],
 "metadata": {
  "kernelspec": {
   "display_name": "Python 3 (ipykernel)",
   "language": "python",
   "name": "python3"
  },
  "language_info": {
   "codemirror_mode": {
    "name": "ipython",
    "version": 3
   },
   "file_extension": ".py",
   "mimetype": "text/x-python",
   "name": "python",
   "nbconvert_exporter": "python",
   "pygments_lexer": "ipython3",
   "version": "3.11.7"
  }
 },
 "nbformat": 4,
 "nbformat_minor": 5
}
