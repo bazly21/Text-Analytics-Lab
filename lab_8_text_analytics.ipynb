{
 "cells": [
  {
   "cell_type": "markdown",
   "id": "b87c3890",
   "metadata": {},
   "source": [
    "# Lab 8: Text Clustering"
   ]
  },
  {
   "cell_type": "code",
   "execution_count": 223,
   "id": "637bc59c",
   "metadata": {},
   "outputs": [],
   "source": [
    "# Import required libraries\n",
    "import numpy as np\n",
    "import re\n",
    "import string\n",
    "import nltk\n",
    "import pandas as pd\n",
    "from nltk.stem import WordNetLemmatizer\n",
    "from nltk.stem.porter import PorterStemmer\n",
    "from nltk.tokenize import word_tokenize\n",
    "from sklearn.cluster import KMeans\n",
    "from sklearn.feature_extraction.text import TfidfVectorizer\n",
    "from tabulate import tabulate\n",
    "from collections import Counter\n",
    "from gensim.models import Word2Vec"
   ]
  },
  {
   "cell_type": "markdown",
   "id": "3faf4535",
   "metadata": {},
   "source": [
    "## Exercise 1"
   ]
  },
  {
   "cell_type": "code",
   "execution_count": 224,
   "id": "9f57191a",
   "metadata": {},
   "outputs": [],
   "source": [
    "# Create documents\n",
    "dataset = [\"I love playing football on the weekends\",\n",
    "\"I enjoy hiking and camping in the mountains\",\n",
    "\"I like to read books and watch movies\",\n",
    "\"I prefer playing video games over sports\",\n",
    "\"I love listening to music and going to concerts\"]"
   ]
  },
  {
   "cell_type": "markdown",
   "id": "61937791",
   "metadata": {},
   "source": [
    "### Data Preprocessing"
   ]
  },
  {
   "cell_type": "code",
   "execution_count": 225,
   "id": "d4ef92a1",
   "metadata": {},
   "outputs": [],
   "source": [
    "# Define functions for data preprocessing\n",
    "def get_cleaned_textdata(sentence):\n",
    "    modified_sentence = re.sub(r'<.*?>',' ', sentence)\n",
    "    modified_sentence = ''.join([i if i not in string.punctuation else ' ' for i in modified_sentence])\n",
    "    modified_sentence = re.sub(r'\\d+', ' ', modified_sentence)\n",
    "    modified_sentence = re.sub(r'\\s+', ' ', modified_sentence)\n",
    "    modified_sentence = modified_sentence.lower()\n",
    "    return modified_sentence\n",
    "\n",
    "def remove_stopwords(text):\n",
    "    output = []\n",
    "    for i in text:\n",
    "        if i not in stopwords:\n",
    "            output.append(i)\n",
    "    return output\n",
    "\n",
    "def porter_stemming(text):\n",
    "    stem_text = []\n",
    "    for word in text:\n",
    "        stemmed_word = porter_stemmer.stem(word)\n",
    "        stem_text.append(stemmed_word)\n",
    "    return stem_text\n",
    "\n",
    "def lemmatizer(text):\n",
    "    lemm_text = []\n",
    "    for word in text:\n",
    "        lemmatized_word = wordnet_lemmatizer.lemmatize(word)\n",
    "        lemm_text.append(lemmatized_word)\n",
    "    return lemm_text"
   ]
  },
  {
   "cell_type": "markdown",
   "id": "3d9038bd",
   "metadata": {},
   "source": [
    "#### Remove Duplicates"
   ]
  },
  {
   "cell_type": "code",
   "execution_count": 226,
   "id": "ee7d8809",
   "metadata": {},
   "outputs": [
    {
     "name": "stdout",
     "output_type": "stream",
     "text": [
      "0\n"
     ]
    }
   ],
   "source": [
    "# Check number of duplicates in dataset\n",
    "dataset_duplicates = data_t.duplicated()\n",
    "print(data_t_duplicates.sum())"
   ]
  },
  {
   "cell_type": "markdown",
   "id": "a06e778f",
   "metadata": {},
   "source": [
    "#### Data Cleaning and Standardization"
   ]
  },
  {
   "cell_type": "code",
   "execution_count": 227,
   "id": "aa25ad0e",
   "metadata": {},
   "outputs": [
    {
     "data": {
      "text/plain": [
       "'i love playing football on the weekends'"
      ]
     },
     "execution_count": 227,
     "metadata": {},
     "output_type": "execute_result"
    }
   ],
   "source": [
    "dataset_clean = [get_cleaned_textdata(sentence) for sentence in dataset]\n",
    "dataset_clean[0]"
   ]
  },
  {
   "cell_type": "markdown",
   "id": "8a743240",
   "metadata": {},
   "source": [
    "#### Data Tokenization"
   ]
  },
  {
   "cell_type": "code",
   "execution_count": 228,
   "id": "c9c1bca4",
   "metadata": {},
   "outputs": [
    {
     "data": {
      "text/plain": [
       "['i', 'love', 'playing', 'football', 'on', 'the', 'weekends']"
      ]
     },
     "execution_count": 228,
     "metadata": {},
     "output_type": "execute_result"
    }
   ],
   "source": [
    "datset_tokenized = [word_tokenize(sentence) for sentence in dataset_clean]\n",
    "datset_tokenized[0]"
   ]
  },
  {
   "cell_type": "markdown",
   "id": "d08fac0e",
   "metadata": {},
   "source": [
    "#### Remove Stopwords"
   ]
  },
  {
   "cell_type": "code",
   "execution_count": 229,
   "id": "1cf7da1d",
   "metadata": {},
   "outputs": [
    {
     "data": {
      "text/plain": [
       "[['love', 'playing', 'football', 'weekends'],\n",
       " ['enjoy', 'hiking', 'camping', 'mountains'],\n",
       " ['like', 'read', 'books', 'watch', 'movies'],\n",
       " ['prefer', 'playing', 'video', 'games', 'sports'],\n",
       " ['love', 'listening', 'music', 'going', 'concerts']]"
      ]
     },
     "execution_count": 229,
     "metadata": {},
     "output_type": "execute_result"
    }
   ],
   "source": [
    "dataset_xstopwords = [remove_stopwords(sentence) for sentence in datset_tokenized]\n",
    "dataset_xstopwords"
   ]
  },
  {
   "cell_type": "markdown",
   "id": "f1399727",
   "metadata": {},
   "source": [
    "#### Stemming"
   ]
  },
  {
   "cell_type": "code",
   "execution_count": 230,
   "id": "5d800e16",
   "metadata": {},
   "outputs": [
    {
     "data": {
      "text/plain": [
       "[['love', 'play', 'footbal', 'weekend'],\n",
       " ['enjoy', 'hike', 'camp', 'mountain'],\n",
       " ['like', 'read', 'book', 'watch', 'movi'],\n",
       " ['prefer', 'play', 'video', 'game', 'sport'],\n",
       " ['love', 'listen', 'music', 'go', 'concert']]"
      ]
     },
     "execution_count": 230,
     "metadata": {},
     "output_type": "execute_result"
    }
   ],
   "source": [
    "dataset_stemm = [porter_stemming(sentence) for sentence in dataset_xstopwords]\n",
    "dataset_stemm"
   ]
  },
  {
   "cell_type": "markdown",
   "id": "f614da33",
   "metadata": {},
   "source": [
    "#### Lemmetization"
   ]
  },
  {
   "cell_type": "code",
   "execution_count": 231,
   "id": "edf1c4b6",
   "metadata": {},
   "outputs": [
    {
     "data": {
      "text/plain": [
       "[['love', 'play', 'footbal', 'weekend'],\n",
       " ['enjoy', 'hike', 'camp', 'mountain'],\n",
       " ['like', 'read', 'book', 'watch', 'movi'],\n",
       " ['prefer', 'play', 'video', 'game', 'sport'],\n",
       " ['love', 'listen', 'music', 'go', 'concert']]"
      ]
     },
     "execution_count": 231,
     "metadata": {},
     "output_type": "execute_result"
    }
   ],
   "source": [
    "dataset_lemm = [lemmatizer(sentence) for sentence in dataset_stemm]\n",
    "dataset_lemm"
   ]
  },
  {
   "cell_type": "code",
   "execution_count": 232,
   "id": "dae8f306",
   "metadata": {},
   "outputs": [
    {
     "data": {
      "text/plain": [
       "['love play footbal weekend',\n",
       " 'enjoy hike camp mountain',\n",
       " 'like read book watch movi',\n",
       " 'prefer play video game sport',\n",
       " 'love listen music go concert']"
      ]
     },
     "execution_count": 232,
     "metadata": {},
     "output_type": "execute_result"
    }
   ],
   "source": [
    "# Join the lemmetized words back into sentences\n",
    "dataset_cleaned = [' '.join(sentence) for sentence in dataset_lemm]\n",
    "dataset_cleaned"
   ]
  },
  {
   "cell_type": "markdown",
   "id": "9c365b5b",
   "metadata": {},
   "source": [
    "### TF-IDF VECTORIZER"
   ]
  },
  {
   "cell_type": "code",
   "execution_count": 233,
   "id": "84b7ccc8",
   "metadata": {},
   "outputs": [],
   "source": [
    "# Vectorize the dataset\n",
    "vectorizer = TfidfVectorizer()\n",
    "X = vectorizer.fit_transform(dataset_cleaned)"
   ]
  },
  {
   "cell_type": "code",
   "execution_count": 234,
   "id": "38799c7c",
   "metadata": {},
   "outputs": [
    {
     "data": {
      "text/html": [
       "<style>#sk-container-id-23 {color: black;background-color: white;}#sk-container-id-23 pre{padding: 0;}#sk-container-id-23 div.sk-toggleable {background-color: white;}#sk-container-id-23 label.sk-toggleable__label {cursor: pointer;display: block;width: 100%;margin-bottom: 0;padding: 0.3em;box-sizing: border-box;text-align: center;}#sk-container-id-23 label.sk-toggleable__label-arrow:before {content: \"▸\";float: left;margin-right: 0.25em;color: #696969;}#sk-container-id-23 label.sk-toggleable__label-arrow:hover:before {color: black;}#sk-container-id-23 div.sk-estimator:hover label.sk-toggleable__label-arrow:before {color: black;}#sk-container-id-23 div.sk-toggleable__content {max-height: 0;max-width: 0;overflow: hidden;text-align: left;background-color: #f0f8ff;}#sk-container-id-23 div.sk-toggleable__content pre {margin: 0.2em;color: black;border-radius: 0.25em;background-color: #f0f8ff;}#sk-container-id-23 input.sk-toggleable__control:checked~div.sk-toggleable__content {max-height: 200px;max-width: 100%;overflow: auto;}#sk-container-id-23 input.sk-toggleable__control:checked~label.sk-toggleable__label-arrow:before {content: \"▾\";}#sk-container-id-23 div.sk-estimator input.sk-toggleable__control:checked~label.sk-toggleable__label {background-color: #d4ebff;}#sk-container-id-23 div.sk-label input.sk-toggleable__control:checked~label.sk-toggleable__label {background-color: #d4ebff;}#sk-container-id-23 input.sk-hidden--visually {border: 0;clip: rect(1px 1px 1px 1px);clip: rect(1px, 1px, 1px, 1px);height: 1px;margin: -1px;overflow: hidden;padding: 0;position: absolute;width: 1px;}#sk-container-id-23 div.sk-estimator {font-family: monospace;background-color: #f0f8ff;border: 1px dotted black;border-radius: 0.25em;box-sizing: border-box;margin-bottom: 0.5em;}#sk-container-id-23 div.sk-estimator:hover {background-color: #d4ebff;}#sk-container-id-23 div.sk-parallel-item::after {content: \"\";width: 100%;border-bottom: 1px solid gray;flex-grow: 1;}#sk-container-id-23 div.sk-label:hover label.sk-toggleable__label {background-color: #d4ebff;}#sk-container-id-23 div.sk-serial::before {content: \"\";position: absolute;border-left: 1px solid gray;box-sizing: border-box;top: 0;bottom: 0;left: 50%;z-index: 0;}#sk-container-id-23 div.sk-serial {display: flex;flex-direction: column;align-items: center;background-color: white;padding-right: 0.2em;padding-left: 0.2em;position: relative;}#sk-container-id-23 div.sk-item {position: relative;z-index: 1;}#sk-container-id-23 div.sk-parallel {display: flex;align-items: stretch;justify-content: center;background-color: white;position: relative;}#sk-container-id-23 div.sk-item::before, #sk-container-id-23 div.sk-parallel-item::before {content: \"\";position: absolute;border-left: 1px solid gray;box-sizing: border-box;top: 0;bottom: 0;left: 50%;z-index: -1;}#sk-container-id-23 div.sk-parallel-item {display: flex;flex-direction: column;z-index: 1;position: relative;background-color: white;}#sk-container-id-23 div.sk-parallel-item:first-child::after {align-self: flex-end;width: 50%;}#sk-container-id-23 div.sk-parallel-item:last-child::after {align-self: flex-start;width: 50%;}#sk-container-id-23 div.sk-parallel-item:only-child::after {width: 0;}#sk-container-id-23 div.sk-dashed-wrapped {border: 1px dashed gray;margin: 0 0.4em 0.5em 0.4em;box-sizing: border-box;padding-bottom: 0.4em;background-color: white;}#sk-container-id-23 div.sk-label label {font-family: monospace;font-weight: bold;display: inline-block;line-height: 1.2em;}#sk-container-id-23 div.sk-label-container {text-align: center;}#sk-container-id-23 div.sk-container {/* jupyter's `normalize.less` sets `[hidden] { display: none; }` but bootstrap.min.css set `[hidden] { display: none !important; }` so we also need the `!important` here to be able to override the default hidden behavior on the sphinx rendered scikit-learn.org. See: https://github.com/scikit-learn/scikit-learn/issues/21755 */display: inline-block !important;position: relative;}#sk-container-id-23 div.sk-text-repr-fallback {display: none;}</style><div id=\"sk-container-id-23\" class=\"sk-top-container\"><div class=\"sk-text-repr-fallback\"><pre>KMeans(n_clusters=2)</pre><b>In a Jupyter environment, please rerun this cell to show the HTML representation or trust the notebook. <br />On GitHub, the HTML representation is unable to render, please try loading this page with nbviewer.org.</b></div><div class=\"sk-container\" hidden><div class=\"sk-item\"><div class=\"sk-estimator sk-toggleable\"><input class=\"sk-toggleable__control sk-hidden--visually\" id=\"sk-estimator-id-23\" type=\"checkbox\" checked><label for=\"sk-estimator-id-23\" class=\"sk-toggleable__label sk-toggleable__label-arrow\">KMeans</label><div class=\"sk-toggleable__content\"><pre>KMeans(n_clusters=2)</pre></div></div></div></div></div>"
      ],
      "text/plain": [
       "KMeans(n_clusters=2)"
      ]
     },
     "execution_count": 234,
     "metadata": {},
     "output_type": "execute_result"
    }
   ],
   "source": [
    "# Perform clustering\n",
    "k = 2 # Define the number of clusters\n",
    "km = KMeans(n_clusters=k)\n",
    "km.fit(X)"
   ]
  },
  {
   "cell_type": "code",
   "execution_count": 235,
   "id": "c86397be",
   "metadata": {},
   "outputs": [],
   "source": [
    "# Predict the clusters for each document\n",
    "y_pred = km.predict(X)"
   ]
  },
  {
   "cell_type": "code",
   "execution_count": 236,
   "id": "10d9c1c9",
   "metadata": {},
   "outputs": [
    {
     "name": "stdout",
     "output_type": "stream",
     "text": [
      "Document                        Predicted Cluster\n",
      "----------------------------  -------------------\n",
      "love play footbal weekend                       1\n",
      "enjoy hike camp mountain                        0\n",
      "like read book watch movi                       0\n",
      "prefer play video game sport                    1\n",
      "love listen music go concert                    1\n"
     ]
    }
   ],
   "source": [
    "# Display the document and its predicted cluster in a table\n",
    "table_data = [[\"Document\", \"Predicted Cluster\"]]\n",
    "table_data.extend([[doc, cluster] for doc, cluster in zip(dataset_cleaned, y_pred)])\n",
    "print(tabulate(table_data, headers=\"firstrow\"))"
   ]
  },
  {
   "cell_type": "code",
   "execution_count": 237,
   "id": "99c62da4",
   "metadata": {},
   "outputs": [
    {
     "name": "stdout",
     "output_type": "stream",
     "text": [
      "\n",
      "Top terms per cluster:\n",
      "Cluster 0:\n",
      " hike\n",
      " camp\n",
      " enjoy\n",
      " mountain\n",
      " book\n",
      " read\n",
      " movi\n",
      " watch\n",
      " like\n",
      " concert\n",
      "\n",
      "Cluster 1:\n",
      " love\n",
      " play\n",
      " footbal\n",
      " weekend\n",
      " game\n",
      " sport\n",
      " music\n",
      " concert\n",
      " listen\n",
      " prefer\n",
      "\n"
     ]
    }
   ],
   "source": [
    "# Print top terms per cluster\n",
    "print(\"\\nTop terms per cluster:\")\n",
    "order_centroids = km.cluster_centers_.argsort()[:, ::-1]\n",
    "terms = vectorizer.get_feature_names_out()\n",
    "for i in range(k):\n",
    "    print(\"Cluster %d:\" % i)\n",
    "    for ind in order_centroids[i, :10]:\n",
    "        print(' %s' % terms[ind])\n",
    "    print()"
   ]
  },
  {
   "cell_type": "code",
   "execution_count": 238,
   "id": "709dde11",
   "metadata": {},
   "outputs": [
    {
     "name": "stdout",
     "output_type": "stream",
     "text": [
      "Purity: 0.6\n"
     ]
    }
   ],
   "source": [
    "# Calculate purity\n",
    "total_samples = len(y_pred)\n",
    "cluster_label_counts = [Counter(y_pred)]\n",
    "purity = sum(max(cluster.values()) for cluster in cluster_label_counts) / total_samples\n",
    "print(\"Purity:\", purity)"
   ]
  },
  {
   "cell_type": "markdown",
   "id": "6e47ecc2",
   "metadata": {},
   "source": [
    "### WORD2VEC VECTORIZER"
   ]
  },
  {
   "cell_type": "code",
   "execution_count": 211,
   "id": "ef35e53d",
   "metadata": {},
   "outputs": [],
   "source": [
    "tokenized_dataset = [doc.split() for doc in dataset_cleaned]\n",
    "word2vec_model = Word2Vec(sentences=tokenized_dataset, vector_size=100,\n",
    "window=5, min_count=1, workers=4)"
   ]
  },
  {
   "cell_type": "code",
   "execution_count": 212,
   "id": "bfadec15",
   "metadata": {},
   "outputs": [],
   "source": [
    "X = np.array([np.mean([word2vec_model.wv[word] for word in doc.split() if word in\n",
    "word2vec_model.wv], axis=0) for doc in dataset_cleaned])"
   ]
  },
  {
   "cell_type": "code",
   "execution_count": 213,
   "id": "0160912e",
   "metadata": {},
   "outputs": [
    {
     "name": "stderr",
     "output_type": "stream",
     "text": [
      "/opt/anaconda3/lib/python3.11/site-packages/sklearn/cluster/_kmeans.py:870: FutureWarning: The default value of `n_init` will change from 10 to 'auto' in 1.4. Set the value of `n_init` explicitly to suppress the warning\n",
      "  warnings.warn(\n"
     ]
    },
    {
     "data": {
      "text/html": [
       "<style>#sk-container-id-21 {color: black;background-color: white;}#sk-container-id-21 pre{padding: 0;}#sk-container-id-21 div.sk-toggleable {background-color: white;}#sk-container-id-21 label.sk-toggleable__label {cursor: pointer;display: block;width: 100%;margin-bottom: 0;padding: 0.3em;box-sizing: border-box;text-align: center;}#sk-container-id-21 label.sk-toggleable__label-arrow:before {content: \"▸\";float: left;margin-right: 0.25em;color: #696969;}#sk-container-id-21 label.sk-toggleable__label-arrow:hover:before {color: black;}#sk-container-id-21 div.sk-estimator:hover label.sk-toggleable__label-arrow:before {color: black;}#sk-container-id-21 div.sk-toggleable__content {max-height: 0;max-width: 0;overflow: hidden;text-align: left;background-color: #f0f8ff;}#sk-container-id-21 div.sk-toggleable__content pre {margin: 0.2em;color: black;border-radius: 0.25em;background-color: #f0f8ff;}#sk-container-id-21 input.sk-toggleable__control:checked~div.sk-toggleable__content {max-height: 200px;max-width: 100%;overflow: auto;}#sk-container-id-21 input.sk-toggleable__control:checked~label.sk-toggleable__label-arrow:before {content: \"▾\";}#sk-container-id-21 div.sk-estimator input.sk-toggleable__control:checked~label.sk-toggleable__label {background-color: #d4ebff;}#sk-container-id-21 div.sk-label input.sk-toggleable__control:checked~label.sk-toggleable__label {background-color: #d4ebff;}#sk-container-id-21 input.sk-hidden--visually {border: 0;clip: rect(1px 1px 1px 1px);clip: rect(1px, 1px, 1px, 1px);height: 1px;margin: -1px;overflow: hidden;padding: 0;position: absolute;width: 1px;}#sk-container-id-21 div.sk-estimator {font-family: monospace;background-color: #f0f8ff;border: 1px dotted black;border-radius: 0.25em;box-sizing: border-box;margin-bottom: 0.5em;}#sk-container-id-21 div.sk-estimator:hover {background-color: #d4ebff;}#sk-container-id-21 div.sk-parallel-item::after {content: \"\";width: 100%;border-bottom: 1px solid gray;flex-grow: 1;}#sk-container-id-21 div.sk-label:hover label.sk-toggleable__label {background-color: #d4ebff;}#sk-container-id-21 div.sk-serial::before {content: \"\";position: absolute;border-left: 1px solid gray;box-sizing: border-box;top: 0;bottom: 0;left: 50%;z-index: 0;}#sk-container-id-21 div.sk-serial {display: flex;flex-direction: column;align-items: center;background-color: white;padding-right: 0.2em;padding-left: 0.2em;position: relative;}#sk-container-id-21 div.sk-item {position: relative;z-index: 1;}#sk-container-id-21 div.sk-parallel {display: flex;align-items: stretch;justify-content: center;background-color: white;position: relative;}#sk-container-id-21 div.sk-item::before, #sk-container-id-21 div.sk-parallel-item::before {content: \"\";position: absolute;border-left: 1px solid gray;box-sizing: border-box;top: 0;bottom: 0;left: 50%;z-index: -1;}#sk-container-id-21 div.sk-parallel-item {display: flex;flex-direction: column;z-index: 1;position: relative;background-color: white;}#sk-container-id-21 div.sk-parallel-item:first-child::after {align-self: flex-end;width: 50%;}#sk-container-id-21 div.sk-parallel-item:last-child::after {align-self: flex-start;width: 50%;}#sk-container-id-21 div.sk-parallel-item:only-child::after {width: 0;}#sk-container-id-21 div.sk-dashed-wrapped {border: 1px dashed gray;margin: 0 0.4em 0.5em 0.4em;box-sizing: border-box;padding-bottom: 0.4em;background-color: white;}#sk-container-id-21 div.sk-label label {font-family: monospace;font-weight: bold;display: inline-block;line-height: 1.2em;}#sk-container-id-21 div.sk-label-container {text-align: center;}#sk-container-id-21 div.sk-container {/* jupyter's `normalize.less` sets `[hidden] { display: none; }` but bootstrap.min.css set `[hidden] { display: none !important; }` so we also need the `!important` here to be able to override the default hidden behavior on the sphinx rendered scikit-learn.org. See: https://github.com/scikit-learn/scikit-learn/issues/21755 */display: inline-block !important;position: relative;}#sk-container-id-21 div.sk-text-repr-fallback {display: none;}</style><div id=\"sk-container-id-21\" class=\"sk-top-container\"><div class=\"sk-text-repr-fallback\"><pre>KMeans(n_clusters=2)</pre><b>In a Jupyter environment, please rerun this cell to show the HTML representation or trust the notebook. <br />On GitHub, the HTML representation is unable to render, please try loading this page with nbviewer.org.</b></div><div class=\"sk-container\" hidden><div class=\"sk-item\"><div class=\"sk-estimator sk-toggleable\"><input class=\"sk-toggleable__control sk-hidden--visually\" id=\"sk-estimator-id-21\" type=\"checkbox\" checked><label for=\"sk-estimator-id-21\" class=\"sk-toggleable__label sk-toggleable__label-arrow\">KMeans</label><div class=\"sk-toggleable__content\"><pre>KMeans(n_clusters=2)</pre></div></div></div></div></div>"
      ],
      "text/plain": [
       "KMeans(n_clusters=2)"
      ]
     },
     "execution_count": 213,
     "metadata": {},
     "output_type": "execute_result"
    }
   ],
   "source": [
    "k = 2 # Define the number of clusters\n",
    "km = KMeans(n_clusters=k)\n",
    "km.fit(X)"
   ]
  },
  {
   "cell_type": "code",
   "execution_count": 214,
   "id": "bc826ba1",
   "metadata": {},
   "outputs": [],
   "source": [
    "# Predict the clusters for each document\n",
    "y_pred = km.predict(X)"
   ]
  },
  {
   "cell_type": "code",
   "execution_count": 215,
   "id": "3cc5f82e",
   "metadata": {},
   "outputs": [
    {
     "name": "stdout",
     "output_type": "stream",
     "text": [
      "Document                        Predicted Cluster\n",
      "----------------------------  -------------------\n",
      "love play footbal weekend                       1\n",
      "enjoy hike camp mountain                        0\n",
      "like read book watch movi                       0\n",
      "prefer play video game sport                    1\n",
      "love listen music go concert                    0\n"
     ]
    }
   ],
   "source": [
    "# Tabulate the document and predicted cluster\n",
    "table_data = [[\"Document\", \"Predicted Cluster\"]]\n",
    "table_data.extend([[doc, cluster] for doc, cluster in zip(dataset_cleaned, y_pred)])\n",
    "print(tabulate(table_data, headers=\"firstrow\"))"
   ]
  },
  {
   "cell_type": "code",
   "execution_count": 216,
   "id": "d875b850",
   "metadata": {},
   "outputs": [
    {
     "name": "stdout",
     "output_type": "stream",
     "text": [
      "Purity: 0.6\n"
     ]
    }
   ],
   "source": [
    "# Calculate purity\n",
    "total_samples = len(y_pred)\n",
    "cluster_label_counts = [Counter(y_pred)]\n",
    "purity = sum(max(cluster.values()) for cluster in cluster_label_counts) / total_samples\n",
    "print(\"Purity:\", purity)"
   ]
  },
  {
   "cell_type": "markdown",
   "id": "a7d900a2",
   "metadata": {},
   "source": [
    "TF-IDF VECTORIZER\n",
    "- Before data preprocessing = 0.6\n",
    "- After data preprocessing = 0.6\n",
    "\n",
    "WORD2VEC VECTORIZER\n",
    "- Before data preprocessing = 0.6\n",
    "- After data preprocessing = 0.6\n",
    "\n",
    "In both the TF-IDF and WORD2VEC vectorization methods, the purity level remains consistent at 0.6 before and after data preprocessing. This indicates that the preprocessing steps applied do not significantly alter the resulting purity level, suggesting that the preprocessing may not have a substantial impact on the vectorization outcomes for these particular datasets."
   ]
  },
  {
   "cell_type": "markdown",
   "id": "ce37e3a0",
   "metadata": {},
   "source": [
    "## Exercise 2"
   ]
  },
  {
   "cell_type": "code",
   "execution_count": 176,
   "id": "f41b6d1e",
   "metadata": {
    "scrolled": false
   },
   "outputs": [
    {
     "data": {
      "text/html": [
       "<div>\n",
       "<style scoped>\n",
       "    .dataframe tbody tr th:only-of-type {\n",
       "        vertical-align: middle;\n",
       "    }\n",
       "\n",
       "    .dataframe tbody tr th {\n",
       "        vertical-align: top;\n",
       "    }\n",
       "\n",
       "    .dataframe thead th {\n",
       "        text-align: right;\n",
       "    }\n",
       "</style>\n",
       "<table border=\"1\" class=\"dataframe\">\n",
       "  <thead>\n",
       "    <tr style=\"text-align: right;\">\n",
       "      <th></th>\n",
       "      <th>author</th>\n",
       "      <th>posted_on</th>\n",
       "      <th>rating</th>\n",
       "      <th>text</th>\n",
       "    </tr>\n",
       "  </thead>\n",
       "  <tbody>\n",
       "    <tr>\n",
       "      <th>0</th>\n",
       "      <td>Alantae of Chesterfeild, MI</td>\n",
       "      <td>Nov. 22, 2016</td>\n",
       "      <td>1</td>\n",
       "      <td>I used to love Comcast. Until all these consta...</td>\n",
       "    </tr>\n",
       "    <tr>\n",
       "      <th>1</th>\n",
       "      <td>Vera of Philadelphia, PA</td>\n",
       "      <td>Nov. 19, 2016</td>\n",
       "      <td>1</td>\n",
       "      <td>I'm so over Comcast! The worst internet provid...</td>\n",
       "    </tr>\n",
       "    <tr>\n",
       "      <th>2</th>\n",
       "      <td>Sarah of Rancho Cordova, CA</td>\n",
       "      <td>Nov. 17, 2016</td>\n",
       "      <td>1</td>\n",
       "      <td>If I could give them a negative star or no sta...</td>\n",
       "    </tr>\n",
       "    <tr>\n",
       "      <th>3</th>\n",
       "      <td>Dennis of Manchester, NH</td>\n",
       "      <td>Nov. 16, 2016</td>\n",
       "      <td>1</td>\n",
       "      <td>I've had the worst experiences so far since in...</td>\n",
       "    </tr>\n",
       "    <tr>\n",
       "      <th>4</th>\n",
       "      <td>Ryan of Bellevue, WA</td>\n",
       "      <td>Nov. 14, 2016</td>\n",
       "      <td>1</td>\n",
       "      <td>Check your contract when you sign up for Comca...</td>\n",
       "    </tr>\n",
       "    <tr>\n",
       "      <th>5</th>\n",
       "      <td>Terri of Mobile, AL</td>\n",
       "      <td>Nov. 9, 2016</td>\n",
       "      <td>1</td>\n",
       "      <td>Thank God. I am changing to Dish. They gave me...</td>\n",
       "    </tr>\n",
       "    <tr>\n",
       "      <th>6</th>\n",
       "      <td>Kellie of Salt Lake City, UT</td>\n",
       "      <td>Nov. 9, 2016</td>\n",
       "      <td>1</td>\n",
       "      <td>I Have been a long time customer and only have...</td>\n",
       "    </tr>\n",
       "    <tr>\n",
       "      <th>7</th>\n",
       "      <td>Kathleen of New Haven, CT</td>\n",
       "      <td>Nov. 6, 2016</td>\n",
       "      <td>2</td>\n",
       "      <td>There is a malfunction on the DVR manager whic...</td>\n",
       "    </tr>\n",
       "    <tr>\n",
       "      <th>8</th>\n",
       "      <td>Shira of Bloomfield, NJ</td>\n",
       "      <td>Nov. 5, 2016</td>\n",
       "      <td>1</td>\n",
       "      <td>Charges overwhelming. Comcast service rep was ...</td>\n",
       "    </tr>\n",
       "    <tr>\n",
       "      <th>9</th>\n",
       "      <td>Kristy of Alpharetta, GA</td>\n",
       "      <td>Nov. 2, 2016</td>\n",
       "      <td>1</td>\n",
       "      <td>I have had cable, DISH, and U-verse, etc. in t...</td>\n",
       "    </tr>\n",
       "    <tr>\n",
       "      <th>10</th>\n",
       "      <td>Melissa of Katy, TX</td>\n",
       "      <td>Nov. 1, 2016</td>\n",
       "      <td>1</td>\n",
       "      <td>Had them from 2014 to now. I'd tell new custom...</td>\n",
       "    </tr>\n",
       "    <tr>\n",
       "      <th>11</th>\n",
       "      <td>Lori of Huntsville, AL</td>\n",
       "      <td>Nov. 1, 2016</td>\n",
       "      <td>1</td>\n",
       "      <td>Disappointed. I have been a Comcast/Xfinity cu...</td>\n",
       "    </tr>\n",
       "    <tr>\n",
       "      <th>12</th>\n",
       "      <td>Richard of Lauderhill, FL</td>\n",
       "      <td>Oct. 31, 2016</td>\n",
       "      <td>1</td>\n",
       "      <td>These people are unethical and disturbing obli...</td>\n",
       "    </tr>\n",
       "    <tr>\n",
       "      <th>13</th>\n",
       "      <td>Liz of Eden Prairie, MN</td>\n",
       "      <td>Oct. 31, 2016</td>\n",
       "      <td>1</td>\n",
       "      <td>Unplanned, unexpected, all day outages, rude s...</td>\n",
       "    </tr>\n",
       "    <tr>\n",
       "      <th>14</th>\n",
       "      <td>Meta of Thornton, CO</td>\n",
       "      <td>Oct. 30, 2016</td>\n",
       "      <td>1</td>\n",
       "      <td>BE WARNED. You will have 10$ hidden fees when ...</td>\n",
       "    </tr>\n",
       "    <tr>\n",
       "      <th>15</th>\n",
       "      <td>Emma of Medford, MA</td>\n",
       "      <td>Oct. 29, 2016</td>\n",
       "      <td>1</td>\n",
       "      <td>Had Comcast. Overall the terrible experience e...</td>\n",
       "    </tr>\n",
       "    <tr>\n",
       "      <th>16</th>\n",
       "      <td>Marc of Bellingham, WA</td>\n",
       "      <td>Oct. 29, 2016</td>\n",
       "      <td>1</td>\n",
       "      <td>When I called the infinity customer service ce...</td>\n",
       "    </tr>\n",
       "    <tr>\n",
       "      <th>17</th>\n",
       "      <td>Tyneshia of Murfreesboro, TN</td>\n",
       "      <td>Oct. 27, 2016</td>\n",
       "      <td>1</td>\n",
       "      <td>Outraged, that it should not take a month to g...</td>\n",
       "    </tr>\n",
       "    <tr>\n",
       "      <th>18</th>\n",
       "      <td>Donnie of Lawrenceville, GA</td>\n",
       "      <td>Oct. 27, 2016</td>\n",
       "      <td>1</td>\n",
       "      <td>We got Xfinity on the first of July 2016. In t...</td>\n",
       "    </tr>\n",
       "  </tbody>\n",
       "</table>\n",
       "</div>"
      ],
      "text/plain": [
       "                          author      posted_on  rating  \\\n",
       "0    Alantae of Chesterfeild, MI  Nov. 22, 2016       1   \n",
       "1       Vera of Philadelphia, PA  Nov. 19, 2016       1   \n",
       "2    Sarah of Rancho Cordova, CA  Nov. 17, 2016       1   \n",
       "3       Dennis of Manchester, NH  Nov. 16, 2016       1   \n",
       "4           Ryan of Bellevue, WA  Nov. 14, 2016       1   \n",
       "5            Terri of Mobile, AL   Nov. 9, 2016       1   \n",
       "6   Kellie of Salt Lake City, UT   Nov. 9, 2016       1   \n",
       "7      Kathleen of New Haven, CT   Nov. 6, 2016       2   \n",
       "8        Shira of Bloomfield, NJ   Nov. 5, 2016       1   \n",
       "9       Kristy of Alpharetta, GA   Nov. 2, 2016       1   \n",
       "10           Melissa of Katy, TX   Nov. 1, 2016       1   \n",
       "11        Lori of Huntsville, AL   Nov. 1, 2016       1   \n",
       "12     Richard of Lauderhill, FL  Oct. 31, 2016       1   \n",
       "13       Liz of Eden Prairie, MN  Oct. 31, 2016       1   \n",
       "14          Meta of Thornton, CO  Oct. 30, 2016       1   \n",
       "15           Emma of Medford, MA  Oct. 29, 2016       1   \n",
       "16        Marc of Bellingham, WA  Oct. 29, 2016       1   \n",
       "17  Tyneshia of Murfreesboro, TN  Oct. 27, 2016       1   \n",
       "18   Donnie of Lawrenceville, GA  Oct. 27, 2016       1   \n",
       "\n",
       "                                                 text  \n",
       "0   I used to love Comcast. Until all these consta...  \n",
       "1   I'm so over Comcast! The worst internet provid...  \n",
       "2   If I could give them a negative star or no sta...  \n",
       "3   I've had the worst experiences so far since in...  \n",
       "4   Check your contract when you sign up for Comca...  \n",
       "5   Thank God. I am changing to Dish. They gave me...  \n",
       "6   I Have been a long time customer and only have...  \n",
       "7   There is a malfunction on the DVR manager whic...  \n",
       "8   Charges overwhelming. Comcast service rep was ...  \n",
       "9   I have had cable, DISH, and U-verse, etc. in t...  \n",
       "10  Had them from 2014 to now. I'd tell new custom...  \n",
       "11  Disappointed. I have been a Comcast/Xfinity cu...  \n",
       "12  These people are unethical and disturbing obli...  \n",
       "13  Unplanned, unexpected, all day outages, rude s...  \n",
       "14  BE WARNED. You will have 10$ hidden fees when ...  \n",
       "15  Had Comcast. Overall the terrible experience e...  \n",
       "16  When I called the infinity customer service ce...  \n",
       "17  Outraged, that it should not take a month to g...  \n",
       "18  We got Xfinity on the first of July 2016. In t...  "
      ]
     },
     "execution_count": 176,
     "metadata": {},
     "output_type": "execute_result"
    }
   ],
   "source": [
    "data = pd.read_csv(\"customer_complaints_1.csv\")\n",
    "data"
   ]
  },
  {
   "cell_type": "markdown",
   "id": "6562adee",
   "metadata": {},
   "source": [
    "### Data Preprocessing"
   ]
  },
  {
   "cell_type": "code",
   "execution_count": 186,
   "id": "3d89f992",
   "metadata": {},
   "outputs": [],
   "source": [
    "data_t = data['text']\n",
    "data_rdup = data_t\n",
    "\n",
    "# Remove duplicate data \n",
    "data_t_rdup = data_t.drop_duplicates(keep='first')\n",
    "\n",
    "# Get clean data\n",
    "data_t_clean = data_t_rdup.apply(get_cleaned_textdata)\n",
    "\n",
    "# Tokenize the data\n",
    "data_t_tokenized = data_t_clean.apply(word_tokenize)\n",
    "\n",
    "# Remove stopwords\n",
    "data_t_xstopwords = data_t_tokenized.apply(remove_stopwords)\n",
    "\n",
    "# Stemming\n",
    "data_t_stemmed = data_t_xstopwords.apply(porter_stemming)\n",
    "\n",
    "# Lemmatization\n",
    "data_t_lemmatized = data_t_stemmed.apply(lemmatizer)\n",
    "\n",
    "data_cleaned = [' '.join(sentence) for sentence in data_t_lemmatized]\n"
   ]
  },
  {
   "cell_type": "markdown",
   "id": "660d804c",
   "metadata": {},
   "source": [
    "### TF-IDF VECTORIZER"
   ]
  },
  {
   "cell_type": "code",
   "execution_count": 269,
   "id": "cf7005c0",
   "metadata": {},
   "outputs": [],
   "source": [
    "# Vectorize the dataset\n",
    "vectorizer = TfidfVectorizer()\n",
    "X = vectorizer.fit_transform(data_cleaned)"
   ]
  },
  {
   "cell_type": "code",
   "execution_count": 270,
   "id": "7b805926",
   "metadata": {},
   "outputs": [
    {
     "data": {
      "text/html": [
       "<style>#sk-container-id-29 {color: black;background-color: white;}#sk-container-id-29 pre{padding: 0;}#sk-container-id-29 div.sk-toggleable {background-color: white;}#sk-container-id-29 label.sk-toggleable__label {cursor: pointer;display: block;width: 100%;margin-bottom: 0;padding: 0.3em;box-sizing: border-box;text-align: center;}#sk-container-id-29 label.sk-toggleable__label-arrow:before {content: \"▸\";float: left;margin-right: 0.25em;color: #696969;}#sk-container-id-29 label.sk-toggleable__label-arrow:hover:before {color: black;}#sk-container-id-29 div.sk-estimator:hover label.sk-toggleable__label-arrow:before {color: black;}#sk-container-id-29 div.sk-toggleable__content {max-height: 0;max-width: 0;overflow: hidden;text-align: left;background-color: #f0f8ff;}#sk-container-id-29 div.sk-toggleable__content pre {margin: 0.2em;color: black;border-radius: 0.25em;background-color: #f0f8ff;}#sk-container-id-29 input.sk-toggleable__control:checked~div.sk-toggleable__content {max-height: 200px;max-width: 100%;overflow: auto;}#sk-container-id-29 input.sk-toggleable__control:checked~label.sk-toggleable__label-arrow:before {content: \"▾\";}#sk-container-id-29 div.sk-estimator input.sk-toggleable__control:checked~label.sk-toggleable__label {background-color: #d4ebff;}#sk-container-id-29 div.sk-label input.sk-toggleable__control:checked~label.sk-toggleable__label {background-color: #d4ebff;}#sk-container-id-29 input.sk-hidden--visually {border: 0;clip: rect(1px 1px 1px 1px);clip: rect(1px, 1px, 1px, 1px);height: 1px;margin: -1px;overflow: hidden;padding: 0;position: absolute;width: 1px;}#sk-container-id-29 div.sk-estimator {font-family: monospace;background-color: #f0f8ff;border: 1px dotted black;border-radius: 0.25em;box-sizing: border-box;margin-bottom: 0.5em;}#sk-container-id-29 div.sk-estimator:hover {background-color: #d4ebff;}#sk-container-id-29 div.sk-parallel-item::after {content: \"\";width: 100%;border-bottom: 1px solid gray;flex-grow: 1;}#sk-container-id-29 div.sk-label:hover label.sk-toggleable__label {background-color: #d4ebff;}#sk-container-id-29 div.sk-serial::before {content: \"\";position: absolute;border-left: 1px solid gray;box-sizing: border-box;top: 0;bottom: 0;left: 50%;z-index: 0;}#sk-container-id-29 div.sk-serial {display: flex;flex-direction: column;align-items: center;background-color: white;padding-right: 0.2em;padding-left: 0.2em;position: relative;}#sk-container-id-29 div.sk-item {position: relative;z-index: 1;}#sk-container-id-29 div.sk-parallel {display: flex;align-items: stretch;justify-content: center;background-color: white;position: relative;}#sk-container-id-29 div.sk-item::before, #sk-container-id-29 div.sk-parallel-item::before {content: \"\";position: absolute;border-left: 1px solid gray;box-sizing: border-box;top: 0;bottom: 0;left: 50%;z-index: -1;}#sk-container-id-29 div.sk-parallel-item {display: flex;flex-direction: column;z-index: 1;position: relative;background-color: white;}#sk-container-id-29 div.sk-parallel-item:first-child::after {align-self: flex-end;width: 50%;}#sk-container-id-29 div.sk-parallel-item:last-child::after {align-self: flex-start;width: 50%;}#sk-container-id-29 div.sk-parallel-item:only-child::after {width: 0;}#sk-container-id-29 div.sk-dashed-wrapped {border: 1px dashed gray;margin: 0 0.4em 0.5em 0.4em;box-sizing: border-box;padding-bottom: 0.4em;background-color: white;}#sk-container-id-29 div.sk-label label {font-family: monospace;font-weight: bold;display: inline-block;line-height: 1.2em;}#sk-container-id-29 div.sk-label-container {text-align: center;}#sk-container-id-29 div.sk-container {/* jupyter's `normalize.less` sets `[hidden] { display: none; }` but bootstrap.min.css set `[hidden] { display: none !important; }` so we also need the `!important` here to be able to override the default hidden behavior on the sphinx rendered scikit-learn.org. See: https://github.com/scikit-learn/scikit-learn/issues/21755 */display: inline-block !important;position: relative;}#sk-container-id-29 div.sk-text-repr-fallback {display: none;}</style><div id=\"sk-container-id-29\" class=\"sk-top-container\"><div class=\"sk-text-repr-fallback\"><pre>KMeans(n_clusters=2)</pre><b>In a Jupyter environment, please rerun this cell to show the HTML representation or trust the notebook. <br />On GitHub, the HTML representation is unable to render, please try loading this page with nbviewer.org.</b></div><div class=\"sk-container\" hidden><div class=\"sk-item\"><div class=\"sk-estimator sk-toggleable\"><input class=\"sk-toggleable__control sk-hidden--visually\" id=\"sk-estimator-id-29\" type=\"checkbox\" checked><label for=\"sk-estimator-id-29\" class=\"sk-toggleable__label sk-toggleable__label-arrow\">KMeans</label><div class=\"sk-toggleable__content\"><pre>KMeans(n_clusters=2)</pre></div></div></div></div></div>"
      ],
      "text/plain": [
       "KMeans(n_clusters=2)"
      ]
     },
     "execution_count": 270,
     "metadata": {},
     "output_type": "execute_result"
    }
   ],
   "source": [
    "# Perform clustering\n",
    "k = 2 # Define the number of clusters\n",
    "km = KMeans(n_clusters=k)\n",
    "km.fit(X)"
   ]
  },
  {
   "cell_type": "code",
   "execution_count": 271,
   "id": "e36675f6",
   "metadata": {},
   "outputs": [],
   "source": [
    "# Predict the clusters for each document\n",
    "y_pred = km.predict(X)"
   ]
  },
  {
   "cell_type": "code",
   "execution_count": 272,
   "id": "8d5b4f0e",
   "metadata": {
    "scrolled": false
   },
   "outputs": [
    {
     "name": "stdout",
     "output_type": "stream",
     "text": [
      "Document                                                                                                                                                                                                                                                                                                                                                                                                                                                                                                                                                                                                                                                                                                                                                                                                                                                                                                                                                                                                                                                                                                                                                                                                                                                                                                                                                                                                                                                                                                                                                                                                                                                                                                                                                                                                                                                                                 Predicted Cluster\n",
      "-------------------------------------------------------------------------------------------------------------------------------------------------------------------------------------------------------------------------------------------------------------------------------------------------------------------------------------------------------------------------------------------------------------------------------------------------------------------------------------------------------------------------------------------------------------------------------------------------------------------------------------------------------------------------------------------------------------------------------------------------------------------------------------------------------------------------------------------------------------------------------------------------------------------------------------------------------------------------------------------------------------------------------------------------------------------------------------------------------------------------------------------------------------------------------------------------------------------------------------------------------------------------------------------------------------------------------------------------------------------------------------------------------------------------------------------------------------------------------------------------------------------------------------------------------------------------------------------------------------------------------------------------------------------------------------------------------------------------------------------------------------------------------------------------------------------------------------------------------------------------------------  -------------------\n",
      "use love comcast constant updat internet cabl crash lot night sometim day channel even work demand sometim play either wish someth min ago internet crash min reason tire think switch wow someth plea get xfiniti                                                                                                                                                                                                                                                                                                                                                                                                                                                                                                                                                                                                                                                                                                                                                                                                                                                                                                                                                                                                                                                                                                                                                                                                                                                                                                                                                                                                                                                                                                                                                                                                                                                                                       0\n",
      "comcast worst internet provid take onlin class multipl time late assign power interrupt area lead poor qualiti internet servic definit switch verizon rather pay extra deal w comcast non stop internet problem                                                                                                                                                                                                                                                                                                                                                                                                                                                                                                                                                                                                                                                                                                                                                                                                                                                                                                                                                                                                                                                                                                                                                                                                                                                                                                                                                                                                                                                                                                                                                                                                                                                                                          0\n",
      "could give neg star star review would never work industri bad custom servic comcast matter money make well enough beyond afford servic legitim ripoff think biggest scam sinc mortgag industri major meltdown hope move somewher comcast exist disregard want help right thing honestli astound call issu bill connect servic ad remov servic error matter transfer minimum time everyon say thing pas issu next person one resolv problem offer promot packag small timefram never access upgrad without wish chang bill month overcharg month sinc start blatant rude must make qualifi job type qualiti servic get review dear comcast suck sincer custom wait never use servic                                                                                                                                                                                                                                                                                                                                                                                                                                                                                                                                                                                                                                                                                                                                                                                                                                                                                                                                                                                                                                                                                                                                                                                                                       1\n",
      "worst experi far sinc instal noth problem two show schedul servic appoint extrem difficulti ad box second floor difficult ad box exist account thank start second account second floor hous separ bundl packag want add box appar possibl well guess possibl remain custom                                                                                                                                                                                                                                                                                                                                                                                                                                                                                                                                                                                                                                                                                                                                                                                                                                                                                                                                                                                                                                                                                                                                                                                                                                                                                                                                                                                                                                                                                                                                                                                                                               1\n",
      "check contract sign comcast advertis offer match contract issu sign mbp internet year howev contract mbp internet year say add place boost blast pro howev part contract mean comcast increas price whenev want within year mean receiv advertis rate comcast far refus issu correct contract issu write remain price year trust watch comcast usual illeg practic guess catch peopl hope notic end pay                                                                                                                                                                                                                                                                                                                                                                                                                                                                                                                                                                                                                                                                                                                                                                                                                                                                                                                                                                                                                                                                                                                                                                                                                                                                                                                                                                                                                                                                                                  1\n",
      "thank god chang dish gave awesom price super peopl deal actual understand say excit final abl return equip although still receiv home secur yet promis time go h comcast made miser caus miss mani hour work promis                                                                                                                                                                                                                                                                                                                                                                                                                                                                                                                                                                                                                                                                                                                                                                                                                                                                                                                                                                                                                                                                                                                                                                                                                                                                                                                                                                                                                                                                                                                                                                                                                                                                                      0\n",
      "long time custom xfiniti isp local walmart novemb custom repres xfiniti run promot salt lake citi area spoke repres abl get sign contract pro blast month contract earli termin fee receiv email xfiniti state chang would made account state would contract month would earli termin fee origin sign specif state contract sign contact xfiniti custom servic told sinc see contract phone would need go xfiniti store person went xfiniti store novemb told would contract way around cancel upgrad went back origin plan plain simpl contract sign honor state xfiniti dishonest trustworthi therefor look chang isp soon possibl anoth compani xfiniti deserv paycheck anyon el know                                                                                                                                                                                                                                                                                                                                                                                                                                                                                                                                                                                                                                                                                                                                                                                                                                                                                                                                                                                                                                                                                                                                                                                                                 1\n",
      "malfunct dvr manag prevent u ad record custom servic fairli certain problem signal system protocol demand access home investig option sinc work done next saturday custom servic tech agre seem illog sinc logic would dictat one would investig probabl malfunct first insist must follow protocol extrem frustrat year custom comcast predecessor investig altern                                                                                                                                                                                                                                                                                                                                                                                                                                                                                                                                                                                                                                                                                                                                                                                                                                                                                                                                                                                                                                                                                                                                                                                                                                                                                                                                                                                                                                                                                                                                      1\n",
      "charg overwhelm comcast servic rep ignor rude call resolv issu bill email tom rep rude none repres help pas peopl cut servic comcast                                                                                                                                                                                                                                                                                                                                                                                                                                                                                                                                                                                                                                                                                                                                                                                                                                                                                                                                                                                                                                                                                                                                                                                                                                                                                                                                                                                                                                                                                                                                                                                                                                                                                                                                                                     1\n",
      "cabl dish u vers etc past eh know comcast take cake never driven take time day gripe onlin see consum stay away first terribl experi comcast took phone month come buri line lay front yard get cabl need hous final got someon special need neighbor trip fell month contract internet phone tv go hour time would spend hour tech come back technician reset router manual rd th time work home occasion huge inconveni hardwar faulti understand sometim get lemon month month worst compani ever crappi equip terribl custom servic wors technician hire clue comcast send technician switch equip set bonfir                                                                                                                                                                                                                                                                                                                                                                                                                                                                                                                                                                                                                                                                                                                                                                                                                                                                                                                                                                                                                                                                                                                                                                                                                                                                                        0\n",
      "tell new custom run nowher run tri turn comcast xfiniti sign contract mean fine print contract suggest read randomli chang contract say chang anyth anytim anyth wrong disagre perform pro pay speed internet month contract month month alon speed list told got letter friday say tue today forc new contract plan pay data speed cap terabyt seem like lot sign custom servic say deal offer plan speed chang use internet pay fair custom matter fair sign use use firestick stream everyth day frustrat kept say use go unlimit plan got rid directv firestick pay unlimit speed chang pay data huge differ say know chang unless go closest got far charg go first month get use first went talk someon store want talk told need call bill know help explain pay bill get equip minut guy call someon good explain letter know letter someon explain want deal store guy come lie u well tell u letter got sent everyon new custom u whatev know lie leav today call comcast soon call ask call data say ye direct call someon know say read contract noth know anyth need bill put call somewher help run around last guy talk internet around forc pay data even get better speed gyp also wrong got notifi friday tuesday nov st chang take effect                                                                                                                                                                                                                                                                                                                                                                                                                                                                                                                                                                                                                                             1\n",
      "disappoint comcast xfiniti custom almost two decad pay high speed get intermitt internet call everi week almost take time call often get frustrat spend minut first person reset modem walk initi process even give histori told pay technician complain explain transfer specialist speed test confirm say even though test say modem work test port modem new modem replac last week issu tell line issu modem perform correctli technician reprogram port retest work awesom initi get carri data retest technician minut later speed low say need send tech look line cold transfer back xfiniti without warn someon answer start process reset modem charg tech transfer specialist anoth hour wast week last week modern age month would think could work home without distract pay fastest packag mbp download mbp upload receiv random speed throughout day mbp download mbp upload often lower number wireless monitor show drop messag server refresh page lose data regularli anyon help attach sever speed test today call cst consum depend internet provid feel like use call system bulli frustrat custom submiss                                                                                                                                                                                                                                                                                                                                                                                                                                                                                                                                                                                                                                                                                                                                                                         0\n",
      "peopl uneth disturb oblivi custom need internet speed tear constantli chang custom charg internet speed chang instanc blast servic first commiss state comcast mbp see increas bill month speak custom rep told mbp mbp blast month plu fact mbp ad bill servic alreadi told take give mbp without blast told would put mbp shop anoth servic end                                                                                                                                                                                                                                                                                                                                                                                                                                                                                                                                                                                                                                                                                                                                                                                                                                                                                                                                                                                                                                                                                                                                                                                                                                                                                                                                                                                                                                                                                                                                                        1\n",
      "unplan unexpect day outag rude servic rep rearrang day set servic deal total inept technician call backup anoth day could go drop failur compani reli hotspot                                                                                                                                                                                                                                                                                                                                                                                                                                                                                                                                                                                                                                                                                                                                                                                                                                                                                                                                                                                                                                                                                                                                                                                                                                                                                                                                                                                                                                                                                                                                                                                                                                                                                                                                            1\n",
      "warn hidden fee sign servic charg extra local news station fee local sport told see first bill custom servic peopl joke rude rude rude ask manag get snotti never let talk one know attract packag get hook joke pay long run competitor                                                                                                                                                                                                                                                                                                                                                                                                                                                                                                                                                                                                                                                                                                                                                                                                                                                                                                                                                                                                                                                                                                                                                                                                                                                                                                                                                                                                                                                                                                                                                                                                                                                                 1\n",
      "comcast overal terribl experi everyon el describ provid area time dealt ultim move apart area servic provid call cancel account took forev final get take hardwar back store keep receipt deal debt collector month claim owe money return hardwar luckili physic proof honestli would paid whatev sure keep call would deni liabil would get kick differ debt collect agenc someon new would call month later final went away never use comcast best part call custom servic would accident disconnect call hint want cancel servic complain choos option custom servic menu add servic connect agent immedi ultim get connect right depart directli probabl still disconnect time though                                                                                                                                                                                                                                                                                                                                                                                                                                                                                                                                                                                                                                                                                                                                                                                                                                                                                                                                                                                                                                                                                                                                                                                                               1\n",
      "call infin custom servic center complain new slow perform speed first question custom servic ask fast buy previou offer faster servic respond speed plan pay explain custom servic actual test le half custom servic rep said would resend signal router improv speed occur turn hotspot cell phone file complaint get screw comcast xfiniti internet speed pay                                                                                                                                                                                                                                                                                                                                                                                                                                                                                                                                                                                                                                                                                                                                                                                                                                                                                                                                                                                                                                                                                                                                                                                                                                                                                                                                                                                                                                                                                                                                          1\n",
      "outrag take month get internet servic contact comcast st week octob internet servic lucki tech come week came inform u could instal due resid brand new type line cabl set told would call special tech schedul date week burial line next week came differ tech came said anyth caus need burial line told last guy said realli thought burial told u guy set instal modem inform u would drop line special tech burial line would soon internet run next week day neighbour appar get internet comcast well tech stole line hook internet cabl call tech came day drop line told happen ensur u ok special tech would drop anoth line come burial next week came monday tech schedul never show call comcast told u got behind someon would come tuesday tuesday morn tech came told u anyth need burial told stori call bos told u would someon come burial day well one show thursday week phone comcast almost hr morn tell u anoth tech st burial set instal sorri tri give u option well truth option internet servic provid u servic comcast area murfreesboro tn stuck comcast child game system phone tablet mention day school switch app kid homework internet becom need want child get comcast anoth servic could get would definit without comcast servic past worst part custom servic bill tend go price without inform servic work time reset modem almost everyday need better job handl issu custom spend money compani                                                                                                                                                                                                                                                                                                                                                                                                                                                              1\n",
      "got xfiniti first juli first week half internet hour time everi singl day first rep sent fix said feel comfort go crawl space told reschedul anoth rep come call reschedul anoth rep learn rep day put note chang splitter fix problem coupl day later anoth rep come traine ran bunch test eventu fix problem decid add tv secur packag xfiniti big mistak comcast xfiniti everyth work internet cabl secur work internet connect worst setup ever encount internet goe internet longer cabl secur anyway ad cabl secur packag littl month ago time least day week gone sever hour time without internet thu without secur cabl well last coupl night worst yesterday internet went sometim work morn come back pm last night went sometim middl night sinc pm still without servic pay xfiniti field tech worst ever encount tech came instal cabl secur sat phone whole time talk phone buddi suppos get dvr box get one secur bozo set door put keypad next door never get use like call sentri door realiz tri get door coupl day later went set alarm realiz could set alarm insid would automat set alarm yet anoth tech come day later tech fix problem process realiz lot way internet cabl secur wire code proceed fix process someth start whole unreli internet process anoth tech come day later check wire reliabl ensur cabl connect tightli insid outsid even climb power pole said found loo cabl tighten make sure even dispatch bucket truck bucket truck arriv hour later went pole check connect came back tell thing previou tech told would known go headach would settl slower speed internet paid littl bit went reliabl million time better main two differ work dedic fiber optic line xfiniti comcast still work ancient copper wire none servic piggyback servic separ dedic servic wherea xfiniti servic reli internet connect internet goe everyth goe                    0\n"
     ]
    }
   ],
   "source": [
    "# Display the document and its predicted cluster in a table\n",
    "table_data = [[\"Document\", \"Predicted Cluster\"]]\n",
    "table_data.extend([[doc, cluster] for doc, cluster in zip(data_cleaned, y_pred)])\n",
    "print(tabulate(table_data, headers=\"firstrow\"))"
   ]
  },
  {
   "cell_type": "code",
   "execution_count": 273,
   "id": "4e8c6933",
   "metadata": {},
   "outputs": [
    {
     "name": "stdout",
     "output_type": "stream",
     "text": [
      "\n",
      "Top terms per cluster:\n",
      "Cluster 0:\n",
      " internet\n",
      " cabl\n",
      " time\n",
      " work\n",
      " comcast\n",
      " secur\n",
      " hour\n",
      " sometim\n",
      " technician\n",
      " promis\n",
      "\n",
      "Cluster 1:\n",
      " servic\n",
      " custom\n",
      " contract\n",
      " rude\n",
      " call\n",
      " would\n",
      " comcast\n",
      " speed\n",
      " mbp\n",
      " told\n",
      "\n"
     ]
    }
   ],
   "source": [
    "# Print top terms per cluster\n",
    "print(\"\\nTop terms per cluster:\")\n",
    "order_centroids = km.cluster_centers_.argsort()[:, ::-1]\n",
    "terms = vectorizer.get_feature_names_out()\n",
    "for i in range(k):\n",
    "    print(\"Cluster %d:\" % i)\n",
    "    for ind in order_centroids[i, :10]:\n",
    "        print(' %s' % terms[ind])\n",
    "    print()"
   ]
  },
  {
   "cell_type": "code",
   "execution_count": 274,
   "id": "b0719b67",
   "metadata": {},
   "outputs": [
    {
     "name": "stdout",
     "output_type": "stream",
     "text": [
      "Purity: 0.6842105263157895\n"
     ]
    }
   ],
   "source": [
    "# Calculate purity\n",
    "total_samples = len(y_pred)\n",
    "cluster_label_counts = [Counter(y_pred)]\n",
    "purity = sum(max(cluster.values()) for cluster in cluster_label_counts) / total_samples\n",
    "print(\"Purity:\", purity)"
   ]
  },
  {
   "cell_type": "markdown",
   "id": "0496764c",
   "metadata": {},
   "source": [
    "### WORD2VEC VECTORIZER"
   ]
  },
  {
   "cell_type": "code",
   "execution_count": 275,
   "id": "80b8c969",
   "metadata": {},
   "outputs": [],
   "source": [
    "tokenized_dataset = [doc.split() for doc in data_cleaned]\n",
    "word2vec_model = Word2Vec(sentences=tokenized_dataset, vector_size=100,\n",
    "window=5, min_count=1, workers=4)"
   ]
  },
  {
   "cell_type": "code",
   "execution_count": 276,
   "id": "6abc8103",
   "metadata": {},
   "outputs": [],
   "source": [
    "X = np.array([np.mean([word2vec_model.wv[word] for word in doc.split() if word in\n",
    "word2vec_model.wv], axis=0) for doc in data_cleaned])"
   ]
  },
  {
   "cell_type": "code",
   "execution_count": 277,
   "id": "6a521613",
   "metadata": {},
   "outputs": [
    {
     "name": "stderr",
     "output_type": "stream",
     "text": [
      "/opt/anaconda3/lib/python3.11/site-packages/sklearn/cluster/_kmeans.py:870: FutureWarning: The default value of `n_init` will change from 10 to 'auto' in 1.4. Set the value of `n_init` explicitly to suppress the warning\n",
      "  warnings.warn(\n"
     ]
    },
    {
     "data": {
      "text/html": [
       "<style>#sk-container-id-30 {color: black;background-color: white;}#sk-container-id-30 pre{padding: 0;}#sk-container-id-30 div.sk-toggleable {background-color: white;}#sk-container-id-30 label.sk-toggleable__label {cursor: pointer;display: block;width: 100%;margin-bottom: 0;padding: 0.3em;box-sizing: border-box;text-align: center;}#sk-container-id-30 label.sk-toggleable__label-arrow:before {content: \"▸\";float: left;margin-right: 0.25em;color: #696969;}#sk-container-id-30 label.sk-toggleable__label-arrow:hover:before {color: black;}#sk-container-id-30 div.sk-estimator:hover label.sk-toggleable__label-arrow:before {color: black;}#sk-container-id-30 div.sk-toggleable__content {max-height: 0;max-width: 0;overflow: hidden;text-align: left;background-color: #f0f8ff;}#sk-container-id-30 div.sk-toggleable__content pre {margin: 0.2em;color: black;border-radius: 0.25em;background-color: #f0f8ff;}#sk-container-id-30 input.sk-toggleable__control:checked~div.sk-toggleable__content {max-height: 200px;max-width: 100%;overflow: auto;}#sk-container-id-30 input.sk-toggleable__control:checked~label.sk-toggleable__label-arrow:before {content: \"▾\";}#sk-container-id-30 div.sk-estimator input.sk-toggleable__control:checked~label.sk-toggleable__label {background-color: #d4ebff;}#sk-container-id-30 div.sk-label input.sk-toggleable__control:checked~label.sk-toggleable__label {background-color: #d4ebff;}#sk-container-id-30 input.sk-hidden--visually {border: 0;clip: rect(1px 1px 1px 1px);clip: rect(1px, 1px, 1px, 1px);height: 1px;margin: -1px;overflow: hidden;padding: 0;position: absolute;width: 1px;}#sk-container-id-30 div.sk-estimator {font-family: monospace;background-color: #f0f8ff;border: 1px dotted black;border-radius: 0.25em;box-sizing: border-box;margin-bottom: 0.5em;}#sk-container-id-30 div.sk-estimator:hover {background-color: #d4ebff;}#sk-container-id-30 div.sk-parallel-item::after {content: \"\";width: 100%;border-bottom: 1px solid gray;flex-grow: 1;}#sk-container-id-30 div.sk-label:hover label.sk-toggleable__label {background-color: #d4ebff;}#sk-container-id-30 div.sk-serial::before {content: \"\";position: absolute;border-left: 1px solid gray;box-sizing: border-box;top: 0;bottom: 0;left: 50%;z-index: 0;}#sk-container-id-30 div.sk-serial {display: flex;flex-direction: column;align-items: center;background-color: white;padding-right: 0.2em;padding-left: 0.2em;position: relative;}#sk-container-id-30 div.sk-item {position: relative;z-index: 1;}#sk-container-id-30 div.sk-parallel {display: flex;align-items: stretch;justify-content: center;background-color: white;position: relative;}#sk-container-id-30 div.sk-item::before, #sk-container-id-30 div.sk-parallel-item::before {content: \"\";position: absolute;border-left: 1px solid gray;box-sizing: border-box;top: 0;bottom: 0;left: 50%;z-index: -1;}#sk-container-id-30 div.sk-parallel-item {display: flex;flex-direction: column;z-index: 1;position: relative;background-color: white;}#sk-container-id-30 div.sk-parallel-item:first-child::after {align-self: flex-end;width: 50%;}#sk-container-id-30 div.sk-parallel-item:last-child::after {align-self: flex-start;width: 50%;}#sk-container-id-30 div.sk-parallel-item:only-child::after {width: 0;}#sk-container-id-30 div.sk-dashed-wrapped {border: 1px dashed gray;margin: 0 0.4em 0.5em 0.4em;box-sizing: border-box;padding-bottom: 0.4em;background-color: white;}#sk-container-id-30 div.sk-label label {font-family: monospace;font-weight: bold;display: inline-block;line-height: 1.2em;}#sk-container-id-30 div.sk-label-container {text-align: center;}#sk-container-id-30 div.sk-container {/* jupyter's `normalize.less` sets `[hidden] { display: none; }` but bootstrap.min.css set `[hidden] { display: none !important; }` so we also need the `!important` here to be able to override the default hidden behavior on the sphinx rendered scikit-learn.org. See: https://github.com/scikit-learn/scikit-learn/issues/21755 */display: inline-block !important;position: relative;}#sk-container-id-30 div.sk-text-repr-fallback {display: none;}</style><div id=\"sk-container-id-30\" class=\"sk-top-container\"><div class=\"sk-text-repr-fallback\"><pre>KMeans(n_clusters=2)</pre><b>In a Jupyter environment, please rerun this cell to show the HTML representation or trust the notebook. <br />On GitHub, the HTML representation is unable to render, please try loading this page with nbviewer.org.</b></div><div class=\"sk-container\" hidden><div class=\"sk-item\"><div class=\"sk-estimator sk-toggleable\"><input class=\"sk-toggleable__control sk-hidden--visually\" id=\"sk-estimator-id-30\" type=\"checkbox\" checked><label for=\"sk-estimator-id-30\" class=\"sk-toggleable__label sk-toggleable__label-arrow\">KMeans</label><div class=\"sk-toggleable__content\"><pre>KMeans(n_clusters=2)</pre></div></div></div></div></div>"
      ],
      "text/plain": [
       "KMeans(n_clusters=2)"
      ]
     },
     "execution_count": 277,
     "metadata": {},
     "output_type": "execute_result"
    }
   ],
   "source": [
    "k = 2 # Define the number of clusters\n",
    "km = KMeans(n_clusters=k)\n",
    "km.fit(X)"
   ]
  },
  {
   "cell_type": "code",
   "execution_count": 278,
   "id": "e176a93b",
   "metadata": {},
   "outputs": [],
   "source": [
    "# Predict the clusters for each document\n",
    "y_pred = km.predict(X)"
   ]
  },
  {
   "cell_type": "code",
   "execution_count": 279,
   "id": "787fa304",
   "metadata": {
    "scrolled": false
   },
   "outputs": [
    {
     "name": "stdout",
     "output_type": "stream",
     "text": [
      "Document                                                                                                                                                                                                                                                                                                                                                                                                                                                                                                                                                                                                                                                                                                                                                                                                                                                                                                                                                                                                                                                                                                                                                                                                                                                                                                                                                                                                                                                                                                                                                                                                                                                                                                                                                                                                                                                                                 Predicted Cluster\n",
      "-------------------------------------------------------------------------------------------------------------------------------------------------------------------------------------------------------------------------------------------------------------------------------------------------------------------------------------------------------------------------------------------------------------------------------------------------------------------------------------------------------------------------------------------------------------------------------------------------------------------------------------------------------------------------------------------------------------------------------------------------------------------------------------------------------------------------------------------------------------------------------------------------------------------------------------------------------------------------------------------------------------------------------------------------------------------------------------------------------------------------------------------------------------------------------------------------------------------------------------------------------------------------------------------------------------------------------------------------------------------------------------------------------------------------------------------------------------------------------------------------------------------------------------------------------------------------------------------------------------------------------------------------------------------------------------------------------------------------------------------------------------------------------------------------------------------------------------------------------------------------------------  -------------------\n",
      "use love comcast constant updat internet cabl crash lot night sometim day channel even work demand sometim play either wish someth min ago internet crash min reason tire think switch wow someth plea get xfiniti                                                                                                                                                                                                                                                                                                                                                                                                                                                                                                                                                                                                                                                                                                                                                                                                                                                                                                                                                                                                                                                                                                                                                                                                                                                                                                                                                                                                                                                                                                                                                                                                                                                                                       1\n",
      "comcast worst internet provid take onlin class multipl time late assign power interrupt area lead poor qualiti internet servic definit switch verizon rather pay extra deal w comcast non stop internet problem                                                                                                                                                                                                                                                                                                                                                                                                                                                                                                                                                                                                                                                                                                                                                                                                                                                                                                                                                                                                                                                                                                                                                                                                                                                                                                                                                                                                                                                                                                                                                                                                                                                                                          1\n",
      "could give neg star star review would never work industri bad custom servic comcast matter money make well enough beyond afford servic legitim ripoff think biggest scam sinc mortgag industri major meltdown hope move somewher comcast exist disregard want help right thing honestli astound call issu bill connect servic ad remov servic error matter transfer minimum time everyon say thing pas issu next person one resolv problem offer promot packag small timefram never access upgrad without wish chang bill month overcharg month sinc start blatant rude must make qualifi job type qualiti servic get review dear comcast suck sincer custom wait never use servic                                                                                                                                                                                                                                                                                                                                                                                                                                                                                                                                                                                                                                                                                                                                                                                                                                                                                                                                                                                                                                                                                                                                                                                                                       0\n",
      "worst experi far sinc instal noth problem two show schedul servic appoint extrem difficulti ad box second floor difficult ad box exist account thank start second account second floor hous separ bundl packag want add box appar possibl well guess possibl remain custom                                                                                                                                                                                                                                                                                                                                                                                                                                                                                                                                                                                                                                                                                                                                                                                                                                                                                                                                                                                                                                                                                                                                                                                                                                                                                                                                                                                                                                                                                                                                                                                                                               1\n",
      "check contract sign comcast advertis offer match contract issu sign mbp internet year howev contract mbp internet year say add place boost blast pro howev part contract mean comcast increas price whenev want within year mean receiv advertis rate comcast far refus issu correct contract issu write remain price year trust watch comcast usual illeg practic guess catch peopl hope notic end pay                                                                                                                                                                                                                                                                                                                                                                                                                                                                                                                                                                                                                                                                                                                                                                                                                                                                                                                                                                                                                                                                                                                                                                                                                                                                                                                                                                                                                                                                                                  1\n",
      "thank god chang dish gave awesom price super peopl deal actual understand say excit final abl return equip although still receiv home secur yet promis time go h comcast made miser caus miss mani hour work promis                                                                                                                                                                                                                                                                                                                                                                                                                                                                                                                                                                                                                                                                                                                                                                                                                                                                                                                                                                                                                                                                                                                                                                                                                                                                                                                                                                                                                                                                                                                                                                                                                                                                                      1\n",
      "long time custom xfiniti isp local walmart novemb custom repres xfiniti run promot salt lake citi area spoke repres abl get sign contract pro blast month contract earli termin fee receiv email xfiniti state chang would made account state would contract month would earli termin fee origin sign specif state contract sign contact xfiniti custom servic told sinc see contract phone would need go xfiniti store person went xfiniti store novemb told would contract way around cancel upgrad went back origin plan plain simpl contract sign honor state xfiniti dishonest trustworthi therefor look chang isp soon possibl anoth compani xfiniti deserv paycheck anyon el know                                                                                                                                                                                                                                                                                                                                                                                                                                                                                                                                                                                                                                                                                                                                                                                                                                                                                                                                                                                                                                                                                                                                                                                                                 1\n",
      "malfunct dvr manag prevent u ad record custom servic fairli certain problem signal system protocol demand access home investig option sinc work done next saturday custom servic tech agre seem illog sinc logic would dictat one would investig probabl malfunct first insist must follow protocol extrem frustrat year custom comcast predecessor investig altern                                                                                                                                                                                                                                                                                                                                                                                                                                                                                                                                                                                                                                                                                                                                                                                                                                                                                                                                                                                                                                                                                                                                                                                                                                                                                                                                                                                                                                                                                                                                      1\n",
      "charg overwhelm comcast servic rep ignor rude call resolv issu bill email tom rep rude none repres help pas peopl cut servic comcast                                                                                                                                                                                                                                                                                                                                                                                                                                                                                                                                                                                                                                                                                                                                                                                                                                                                                                                                                                                                                                                                                                                                                                                                                                                                                                                                                                                                                                                                                                                                                                                                                                                                                                                                                                     0\n",
      "cabl dish u vers etc past eh know comcast take cake never driven take time day gripe onlin see consum stay away first terribl experi comcast took phone month come buri line lay front yard get cabl need hous final got someon special need neighbor trip fell month contract internet phone tv go hour time would spend hour tech come back technician reset router manual rd th time work home occasion huge inconveni hardwar faulti understand sometim get lemon month month worst compani ever crappi equip terribl custom servic wors technician hire clue comcast send technician switch equip set bonfir                                                                                                                                                                                                                                                                                                                                                                                                                                                                                                                                                                                                                                                                                                                                                                                                                                                                                                                                                                                                                                                                                                                                                                                                                                                                                        1\n",
      "tell new custom run nowher run tri turn comcast xfiniti sign contract mean fine print contract suggest read randomli chang contract say chang anyth anytim anyth wrong disagre perform pro pay speed internet month contract month month alon speed list told got letter friday say tue today forc new contract plan pay data speed cap terabyt seem like lot sign custom servic say deal offer plan speed chang use internet pay fair custom matter fair sign use use firestick stream everyth day frustrat kept say use go unlimit plan got rid directv firestick pay unlimit speed chang pay data huge differ say know chang unless go closest got far charg go first month get use first went talk someon store want talk told need call bill know help explain pay bill get equip minut guy call someon good explain letter know letter someon explain want deal store guy come lie u well tell u letter got sent everyon new custom u whatev know lie leav today call comcast soon call ask call data say ye direct call someon know say read contract noth know anyth need bill put call somewher help run around last guy talk internet around forc pay data even get better speed gyp also wrong got notifi friday tuesday nov st chang take effect                                                                                                                                                                                                                                                                                                                                                                                                                                                                                                                                                                                                                                             1\n",
      "disappoint comcast xfiniti custom almost two decad pay high speed get intermitt internet call everi week almost take time call often get frustrat spend minut first person reset modem walk initi process even give histori told pay technician complain explain transfer specialist speed test confirm say even though test say modem work test port modem new modem replac last week issu tell line issu modem perform correctli technician reprogram port retest work awesom initi get carri data retest technician minut later speed low say need send tech look line cold transfer back xfiniti without warn someon answer start process reset modem charg tech transfer specialist anoth hour wast week last week modern age month would think could work home without distract pay fastest packag mbp download mbp upload receiv random speed throughout day mbp download mbp upload often lower number wireless monitor show drop messag server refresh page lose data regularli anyon help attach sever speed test today call cst consum depend internet provid feel like use call system bulli frustrat custom submiss                                                                                                                                                                                                                                                                                                                                                                                                                                                                                                                                                                                                                                                                                                                                                                         1\n",
      "peopl uneth disturb oblivi custom need internet speed tear constantli chang custom charg internet speed chang instanc blast servic first commiss state comcast mbp see increas bill month speak custom rep told mbp mbp blast month plu fact mbp ad bill servic alreadi told take give mbp without blast told would put mbp shop anoth servic end                                                                                                                                                                                                                                                                                                                                                                                                                                                                                                                                                                                                                                                                                                                                                                                                                                                                                                                                                                                                                                                                                                                                                                                                                                                                                                                                                                                                                                                                                                                                                        0\n",
      "unplan unexpect day outag rude servic rep rearrang day set servic deal total inept technician call backup anoth day could go drop failur compani reli hotspot                                                                                                                                                                                                                                                                                                                                                                                                                                                                                                                                                                                                                                                                                                                                                                                                                                                                                                                                                                                                                                                                                                                                                                                                                                                                                                                                                                                                                                                                                                                                                                                                                                                                                                                                            0\n",
      "warn hidden fee sign servic charg extra local news station fee local sport told see first bill custom servic peopl joke rude rude rude ask manag get snotti never let talk one know attract packag get hook joke pay long run competitor                                                                                                                                                                                                                                                                                                                                                                                                                                                                                                                                                                                                                                                                                                                                                                                                                                                                                                                                                                                                                                                                                                                                                                                                                                                                                                                                                                                                                                                                                                                                                                                                                                                                 0\n",
      "comcast overal terribl experi everyon el describ provid area time dealt ultim move apart area servic provid call cancel account took forev final get take hardwar back store keep receipt deal debt collector month claim owe money return hardwar luckili physic proof honestli would paid whatev sure keep call would deni liabil would get kick differ debt collect agenc someon new would call month later final went away never use comcast best part call custom servic would accident disconnect call hint want cancel servic complain choos option custom servic menu add servic connect agent immedi ultim get connect right depart directli probabl still disconnect time though                                                                                                                                                                                                                                                                                                                                                                                                                                                                                                                                                                                                                                                                                                                                                                                                                                                                                                                                                                                                                                                                                                                                                                                                               1\n",
      "call infin custom servic center complain new slow perform speed first question custom servic ask fast buy previou offer faster servic respond speed plan pay explain custom servic actual test le half custom servic rep said would resend signal router improv speed occur turn hotspot cell phone file complaint get screw comcast xfiniti internet speed pay                                                                                                                                                                                                                                                                                                                                                                                                                                                                                                                                                                                                                                                                                                                                                                                                                                                                                                                                                                                                                                                                                                                                                                                                                                                                                                                                                                                                                                                                                                                                          0\n",
      "outrag take month get internet servic contact comcast st week octob internet servic lucki tech come week came inform u could instal due resid brand new type line cabl set told would call special tech schedul date week burial line next week came differ tech came said anyth caus need burial line told last guy said realli thought burial told u guy set instal modem inform u would drop line special tech burial line would soon internet run next week day neighbour appar get internet comcast well tech stole line hook internet cabl call tech came day drop line told happen ensur u ok special tech would drop anoth line come burial next week came monday tech schedul never show call comcast told u got behind someon would come tuesday tuesday morn tech came told u anyth need burial told stori call bos told u would someon come burial day well one show thursday week phone comcast almost hr morn tell u anoth tech st burial set instal sorri tri give u option well truth option internet servic provid u servic comcast area murfreesboro tn stuck comcast child game system phone tablet mention day school switch app kid homework internet becom need want child get comcast anoth servic could get would definit without comcast servic past worst part custom servic bill tend go price without inform servic work time reset modem almost everyday need better job handl issu custom spend money compani                                                                                                                                                                                                                                                                                                                                                                                                                                                              0\n",
      "got xfiniti first juli first week half internet hour time everi singl day first rep sent fix said feel comfort go crawl space told reschedul anoth rep come call reschedul anoth rep learn rep day put note chang splitter fix problem coupl day later anoth rep come traine ran bunch test eventu fix problem decid add tv secur packag xfiniti big mistak comcast xfiniti everyth work internet cabl secur work internet connect worst setup ever encount internet goe internet longer cabl secur anyway ad cabl secur packag littl month ago time least day week gone sever hour time without internet thu without secur cabl well last coupl night worst yesterday internet went sometim work morn come back pm last night went sometim middl night sinc pm still without servic pay xfiniti field tech worst ever encount tech came instal cabl secur sat phone whole time talk phone buddi suppos get dvr box get one secur bozo set door put keypad next door never get use like call sentri door realiz tri get door coupl day later went set alarm realiz could set alarm insid would automat set alarm yet anoth tech come day later tech fix problem process realiz lot way internet cabl secur wire code proceed fix process someth start whole unreli internet process anoth tech come day later check wire reliabl ensur cabl connect tightli insid outsid even climb power pole said found loo cabl tighten make sure even dispatch bucket truck bucket truck arriv hour later went pole check connect came back tell thing previou tech told would known go headach would settl slower speed internet paid littl bit went reliabl million time better main two differ work dedic fiber optic line xfiniti comcast still work ancient copper wire none servic piggyback servic separ dedic servic wherea xfiniti servic reli internet connect internet goe everyth goe                    1\n"
     ]
    }
   ],
   "source": [
    "# Tabulate the document and predicted cluster\n",
    "table_data = [[\"Document\", \"Predicted Cluster\"]]\n",
    "table_data.extend([[doc, cluster] for doc, cluster in zip(data_cleaned, y_pred)])\n",
    "print(tabulate(table_data, headers=\"firstrow\"))"
   ]
  },
  {
   "cell_type": "code",
   "execution_count": 280,
   "id": "ff96a320",
   "metadata": {},
   "outputs": [
    {
     "name": "stdout",
     "output_type": "stream",
     "text": [
      "Purity: 0.631578947368421\n"
     ]
    }
   ],
   "source": [
    "# Calculate purity\n",
    "total_samples = len(y_pred)\n",
    "cluster_label_counts = [Counter(y_pred)]\n",
    "purity = sum(max(cluster.values()) for cluster in cluster_label_counts) / total_samples\n",
    "print(\"Purity:\", purity)"
   ]
  },
  {
   "cell_type": "code",
   "execution_count": null,
   "id": "c7b1268b",
   "metadata": {},
   "outputs": [],
   "source": []
  }
 ],
 "metadata": {
  "kernelspec": {
   "display_name": "Python 3 (ipykernel)",
   "language": "python",
   "name": "python3"
  },
  "language_info": {
   "codemirror_mode": {
    "name": "ipython",
    "version": 3
   },
   "file_extension": ".py",
   "mimetype": "text/x-python",
   "name": "python",
   "nbconvert_exporter": "python",
   "pygments_lexer": "ipython3",
   "version": "3.11.7"
  }
 },
 "nbformat": 4,
 "nbformat_minor": 5
}
