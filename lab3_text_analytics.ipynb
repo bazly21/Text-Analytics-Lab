{
  "nbformat": 4,
  "nbformat_minor": 0,
  "metadata": {
    "colab": {
      "provenance": [],
      "authorship_tag": "ABX9TyMz/GNGQ3nY4Y5lk0kaLjnF",
      "include_colab_link": true
    },
    "kernelspec": {
      "name": "python3",
      "display_name": "Python 3"
    },
    "language_info": {
      "name": "python"
    }
  },
  "cells": [
    {
      "cell_type": "markdown",
      "metadata": {
        "id": "view-in-github",
        "colab_type": "text"
      },
      "source": [
        "<a href=\"https://colab.research.google.com/github/bazly21/Text-Analytics-Lab/blob/main/lab3_text_analytics.ipynb\" target=\"_parent\"><img src=\"https://colab.research.google.com/assets/colab-badge.svg\" alt=\"Open In Colab\"/></a>"
      ]
    },
    {
      "cell_type": "markdown",
      "source": [
        "## Scrap Quotes from Single Page"
      ],
      "metadata": {
        "id": "q48V3VCHjIyS"
      }
    },
    {
      "cell_type": "code",
      "source": [
        "# Import required libraries\n",
        "import requests\n",
        "from bs4 import BeautifulSoup\n",
        "import csv"
      ],
      "metadata": {
        "id": "kaS9var0kDg9"
      },
      "execution_count": 21,
      "outputs": []
    },
    {
      "cell_type": "code",
      "source": [
        "# Send GET request to the website\n",
        "page = requests.get('https://quotes.toscrape.com')"
      ],
      "metadata": {
        "id": "el5OOmzLkMF7"
      },
      "execution_count": 22,
      "outputs": []
    },
    {
      "cell_type": "code",
      "source": [
        "# Parse the HTML content\n",
        "soup = BeautifulSoup(page.text, 'html.parser')"
      ],
      "metadata": {
        "id": "1Jurw-cZkXxP"
      },
      "execution_count": 23,
      "outputs": []
    },
    {
      "cell_type": "code",
      "source": [
        "# Create an empty list to store the quotes\n",
        "quotes = []"
      ],
      "metadata": {
        "id": "dW6siTzvkc5F"
      },
      "execution_count": 24,
      "outputs": []
    },
    {
      "cell_type": "code",
      "source": [
        "# Find all quote elements\n",
        "# In this case, all quotes\n",
        "# are inside div class=\"quote\"\n",
        "quote_elements = soup.find_all('div', class_='quote')"
      ],
      "metadata": {
        "id": "HFSJES1Pktz-"
      },
      "execution_count": 25,
      "outputs": []
    },
    {
      "cell_type": "code",
      "source": [
        "# Extract information from each quote element\n",
        "for quote_element in quote_elements:\n",
        "    # extract the text of the quote\n",
        "    text = quote_element.find('span', class_='text').text\n",
        "    # extract the author of the quote\n",
        "    author = quote_element.find('small', class_='author').text\n",
        "\n",
        "    # extract the tag <a> HTML elements related to the quote\n",
        "    tag_elements = quote_element.select('.tags .tag')\n",
        "\n",
        "    # store the list of tag strings in a list\n",
        "    tags = []\n",
        "    for tag_element in tag_elements:\n",
        "        tags.append(tag_element.text)\n",
        "\n",
        "    quotes.append(\n",
        "      {\n",
        "          'text': text,\n",
        "          'author': author,\n",
        "          'tags': ', '.join(tags) # merge the tags into a \"A, B, ..., Z\" string\n",
        "      }\n",
        "    )"
      ],
      "metadata": {
        "id": "YXv5RXa4lD4Y"
      },
      "execution_count": 26,
      "outputs": []
    },
    {
      "cell_type": "code",
      "source": [
        "# Print the scraped quotes before saving into csv file\n",
        "for quote in quotes:\n",
        "    print(\"Quote: \", quote['text'])\n",
        "    print(\"Author: \", quote['author'])\n",
        "    print(\"Tags: \", quote['tags'])\n",
        "    print()"
      ],
      "metadata": {
        "colab": {
          "base_uri": "https://localhost:8080/"
        },
        "id": "pIxQMJHnlLrU",
        "outputId": "0a973fb4-53f5-4667-b01a-78281d3567ab"
      },
      "execution_count": 29,
      "outputs": [
        {
          "output_type": "stream",
          "name": "stdout",
          "text": [
            "Quote:  “The world as we have created it is a process of our thinking. It cannot be changed without changing our thinking.”\n",
            "Author:  Albert Einstein\n",
            "Tags:  change, deep-thoughts, thinking, world\n",
            "\n",
            "Quote:  “It is our choices, Harry, that show what we truly are, far more than our abilities.”\n",
            "Author:  J.K. Rowling\n",
            "Tags:  abilities, choices\n",
            "\n",
            "Quote:  “There are only two ways to live your life. One is as though nothing is a miracle. The other is as though everything is a miracle.”\n",
            "Author:  Albert Einstein\n",
            "Tags:  inspirational, life, live, miracle, miracles\n",
            "\n",
            "Quote:  “The person, be it gentleman or lady, who has not pleasure in a good novel, must be intolerably stupid.”\n",
            "Author:  Jane Austen\n",
            "Tags:  aliteracy, books, classic, humor\n",
            "\n",
            "Quote:  “Imperfection is beauty, madness is genius and it's better to be absolutely ridiculous than absolutely boring.”\n",
            "Author:  Marilyn Monroe\n",
            "Tags:  be-yourself, inspirational\n",
            "\n",
            "Quote:  “Try not to become a man of success. Rather become a man of value.”\n",
            "Author:  Albert Einstein\n",
            "Tags:  adulthood, success, value\n",
            "\n",
            "Quote:  “It is better to be hated for what you are than to be loved for what you are not.”\n",
            "Author:  André Gide\n",
            "Tags:  life, love\n",
            "\n",
            "Quote:  “I have not failed. I've just found 10,000 ways that won't work.”\n",
            "Author:  Thomas A. Edison\n",
            "Tags:  edison, failure, inspirational, paraphrased\n",
            "\n",
            "Quote:  “A woman is like a tea bag; you never know how strong it is until it's in hot water.”\n",
            "Author:  Eleanor Roosevelt\n",
            "Tags:  misattributed-eleanor-roosevelt\n",
            "\n",
            "Quote:  “A day without sunshine is like, you know, night.”\n",
            "Author:  Steve Martin\n",
            "Tags:  humor, obvious, simile\n",
            "\n"
          ]
        }
      ]
    },
    {
      "cell_type": "code",
      "source": [
        "# Save quotes to a CSV file\n",
        "with open('quotes.csv', 'w', encoding='utf-8', newline='') as csvfile:\n",
        "    fieldnames = ['text', 'author', 'tags']\n",
        "    writer = csv.DictWriter(csvfile, fieldnames=fieldnames)\n",
        "\n",
        "    # Write headers\n",
        "    writer.writeheader()\n",
        "\n",
        "    # Write quotes\n",
        "    for quote in quotes:\n",
        "        writer.writerow(quote)\n",
        "\n",
        "# Once done print status message\n",
        "print(\"Quotes have been saved to quotes.csv\")"
      ],
      "metadata": {
        "colab": {
          "base_uri": "https://localhost:8080/"
        },
        "id": "k3zq8UxzlUCk",
        "outputId": "34969389-4ea2-4953-8bc2-d6ce6da9c81f"
      },
      "execution_count": 28,
      "outputs": [
        {
          "output_type": "stream",
          "name": "stdout",
          "text": [
            "Quotes have been saved to quotes.csv\n"
          ]
        }
      ]
    },
    {
      "cell_type": "markdown",
      "source": [
        "## Scrap Quotes from Multiple Pages"
      ],
      "metadata": {
        "id": "ThK1u8sEi8pJ"
      }
    },
    {
      "cell_type": "code",
      "execution_count": 5,
      "metadata": {
        "id": "B7zgfdMxcnGD"
      },
      "outputs": [],
      "source": [
        "import requests\n",
        "from bs4 import BeautifulSoup\n",
        "import csv\n",
        "\n",
        "# Function to scrape quotes from a page\n",
        "def scrape_page(soup, quotes):\n",
        "    for quote in soup.find_all('div', class_='quote'):\n",
        "        text = quote.find('span', class_='text').text\n",
        "        author = quote.find('small', class_='author').text\n",
        "        tags = ', '.join(tag.text for tag in quote.find_all('a', class_='tag'))\n",
        "        quotes.append({'Text': text, 'Author': author, 'Tags': tags})\n",
        "\n",
        "# Base URL and headers\n",
        "base_url = 'https://quotes.toscrape.com'\n",
        "\n",
        "# List to store quotes\n",
        "quotes = []\n",
        "\n",
        "# Function to scrape quotes from multiple pages\n",
        "def scrape_all_pages(url):\n",
        "    while url:\n",
        "        response = requests.get(url)\n",
        "        soup = BeautifulSoup(response.text, 'html.parser')\n",
        "        scrape_page(soup, quotes)\n",
        "        next_page = soup.find('li', class_='next')\n",
        "        url = base_url + next_page.find('a')['href'] if next_page else None\n",
        "\n",
        "# Scrape quotes from all pages\n",
        "scrape_all_pages(base_url)\n",
        "\n",
        "# Save quotes to CSV file\n",
        "with open('quotes2.csv', 'w', newline='', encoding='utf-8') as csvfile:\n",
        "    writer = csv.DictWriter(csvfile, fieldnames=['Text', 'Author', 'Tags'])\n",
        "    writer.writeheader()\n",
        "    writer.writerows(quotes)\n"
      ]
    }
  ]
}