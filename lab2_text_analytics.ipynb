{
  "nbformat": 4,
  "nbformat_minor": 0,
  "metadata": {
    "colab": {
      "provenance": [],
      "authorship_tag": "ABX9TyNvMweVvAFiddgJJ7gWgFfX",
      "include_colab_link": true
    },
    "kernelspec": {
      "name": "python3",
      "display_name": "Python 3"
    },
    "language_info": {
      "name": "python"
    }
  },
  "cells": [
    {
      "cell_type": "markdown",
      "metadata": {
        "id": "view-in-github",
        "colab_type": "text"
      },
      "source": [
        "<a href=\"https://colab.research.google.com/github/bazly21/Text-Analytics-Lab/blob/main/lab2_text_analytics.ipynb\" target=\"_parent\"><img src=\"https://colab.research.google.com/assets/colab-badge.svg\" alt=\"Open In Colab\"/></a>"
      ]
    },
    {
      "cell_type": "markdown",
      "source": [
        "# Lab 2"
      ],
      "metadata": {
        "id": "pAFdvqWkeS-Z"
      }
    },
    {
      "cell_type": "code",
      "execution_count": 1,
      "metadata": {
        "id": "JENuBQaGXAVo"
      },
      "outputs": [],
      "source": [
        "import re"
      ]
    },
    {
      "cell_type": "markdown",
      "source": [
        "## re.match()"
      ],
      "metadata": {
        "id": "5dYU4bngeMKQ"
      }
    },
    {
      "cell_type": "code",
      "source": [
        "#using re.match\n",
        "#to find the first occurrence of the letter 'I' in the string\n",
        "\n",
        "sentence1 = re.match (r'I', 'I am learning text analytics')\n",
        "print (sentence1)"
      ],
      "metadata": {
        "colab": {
          "base_uri": "https://localhost:8080/"
        },
        "id": "QjXBA4iqYnpD",
        "outputId": "d9596763-21ff-4f17-c0cc-7df5fa4f6d86"
      },
      "execution_count": 50,
      "outputs": [
        {
          "output_type": "stream",
          "name": "stdout",
          "text": [
            "<re.Match object; span=(0, 1), match='I'>\n"
          ]
        }
      ]
    },
    {
      "cell_type": "code",
      "source": [
        "#using re.match\n",
        "#to find the first occurrence of the letter 'v' in the string\n",
        "\n",
        "sentence2 = re.match (r'v', 'I am learning text analytics')\n",
        "print (sentence2)"
      ],
      "metadata": {
        "colab": {
          "base_uri": "https://localhost:8080/"
        },
        "id": "ib8c8hEAZS7N",
        "outputId": "36e71b1b-0440-4c09-c2b0-c3a0f70b6432"
      },
      "execution_count": 51,
      "outputs": [
        {
          "output_type": "stream",
          "name": "stdout",
          "text": [
            "None\n"
          ]
        }
      ]
    },
    {
      "cell_type": "code",
      "source": [
        "#using re.match\n",
        "#to find the first occurrence of the letter 'am' in the string\n",
        "\n",
        "sentence3 = re.match (r'am', 'I am learning text analytics')\n",
        "print (sentence3)\n"
      ],
      "metadata": {
        "colab": {
          "base_uri": "https://localhost:8080/"
        },
        "id": "1u2QEYIuZqBd",
        "outputId": "bfef0339-de30-46be-b195-23c14e4bb693"
      },
      "execution_count": 12,
      "outputs": [
        {
          "output_type": "stream",
          "name": "stdout",
          "text": [
            "None\n"
          ]
        }
      ]
    },
    {
      "cell_type": "markdown",
      "source": [
        "## re.search()"
      ],
      "metadata": {
        "id": "-THVdHtMenCr"
      }
    },
    {
      "cell_type": "code",
      "source": [
        "sentence4 = re.search(r'am', 'I am learning text analytics')\n",
        "print (sentence4)"
      ],
      "metadata": {
        "colab": {
          "base_uri": "https://localhost:8080/"
        },
        "id": "XRbB6rfOZxGl",
        "outputId": "3d4f5ba7-60cd-4084-9228-3f6dbc5c7c0e"
      },
      "execution_count": 15,
      "outputs": [
        {
          "output_type": "stream",
          "name": "stdout",
          "text": [
            "<re.Match object; span=(2, 4), match='am'>\n"
          ]
        }
      ]
    },
    {
      "cell_type": "code",
      "source": [
        "sentence5 = re.search(r'am', 'I am learning text analytics and am enjoying it')\n",
        "print (sentence5)"
      ],
      "metadata": {
        "colab": {
          "base_uri": "https://localhost:8080/"
        },
        "id": "2JImUQqAZ2kI",
        "outputId": "f58c740a-353c-444c-b48e-c32ace87dd80"
      },
      "execution_count": 16,
      "outputs": [
        {
          "output_type": "stream",
          "name": "stdout",
          "text": [
            "<re.Match object; span=(2, 4), match='am'>\n"
          ]
        }
      ]
    },
    {
      "cell_type": "markdown",
      "source": [
        "## re.findall()"
      ],
      "metadata": {
        "id": "fvTFI6EherLb"
      }
    },
    {
      "cell_type": "code",
      "source": [
        "sentence6 = re.findall(r'am', 'I am learning text analytics and am enjoying it')\n",
        "print (sentence6)"
      ],
      "metadata": {
        "colab": {
          "base_uri": "https://localhost:8080/"
        },
        "id": "x1ywFvA6aRBS",
        "outputId": "f507d1ae-aa03-436a-f5bc-0cfefaeb9045"
      },
      "execution_count": 17,
      "outputs": [
        {
          "output_type": "stream",
          "name": "stdout",
          "text": [
            "['am', 'am']\n"
          ]
        }
      ]
    },
    {
      "cell_type": "markdown",
      "source": [
        "## re.split()"
      ],
      "metadata": {
        "id": "bECHAFLSfqLq"
      }
    },
    {
      "cell_type": "code",
      "source": [
        "sentence7 = re.split(r'and', 'I am learning text analytics and am enjoying it')\n",
        "print (sentence7)"
      ],
      "metadata": {
        "colab": {
          "base_uri": "https://localhost:8080/"
        },
        "id": "0W9qmL_SaXbp",
        "outputId": "2d1d7b3c-966b-4d16-dc11-ffcf2676bb8b"
      },
      "execution_count": 18,
      "outputs": [
        {
          "output_type": "stream",
          "name": "stdout",
          "text": [
            "['I am learning text analytics ', ' am enjoying it']\n"
          ]
        }
      ]
    },
    {
      "cell_type": "code",
      "source": [
        "sentence8 = re.split(r'am', 'I am learning text analytics and am enjoying it')\n",
        "print (sentence8)"
      ],
      "metadata": {
        "colab": {
          "base_uri": "https://localhost:8080/"
        },
        "id": "uvkUJNZSas2Y",
        "outputId": "35095aeb-0bae-4c43-865b-264be0971ef8"
      },
      "execution_count": 19,
      "outputs": [
        {
          "output_type": "stream",
          "name": "stdout",
          "text": [
            "['I ', ' learning text analytics and ', ' enjoying it']\n"
          ]
        }
      ]
    },
    {
      "cell_type": "code",
      "source": [
        "sentence9 = re.split(r'am', 'I am learning text analytics and am enjoying it', maxsplit=1)\n",
        "print (sentence9)"
      ],
      "metadata": {
        "colab": {
          "base_uri": "https://localhost:8080/"
        },
        "id": "XmSZ8BxdazI6",
        "outputId": "3619e414-f9de-48a1-c474-e00bf787a21f"
      },
      "execution_count": 20,
      "outputs": [
        {
          "output_type": "stream",
          "name": "stdout",
          "text": [
            "['I ', ' learning text analytics and am enjoying it']\n"
          ]
        }
      ]
    },
    {
      "cell_type": "code",
      "source": [
        "sentence9 = re.split(r'am', 'I am learning text analytics and am enjoying it', maxsplit=2)\n",
        "print (sentence9)"
      ],
      "metadata": {
        "colab": {
          "base_uri": "https://localhost:8080/"
        },
        "id": "NF4ZEs6na2O7",
        "outputId": "54e230a8-6007-4f4a-c5bf-779e86c92b1d"
      },
      "execution_count": 21,
      "outputs": [
        {
          "output_type": "stream",
          "name": "stdout",
          "text": [
            "['I ', ' learning text analytics and ', ' enjoying it']\n"
          ]
        }
      ]
    },
    {
      "cell_type": "code",
      "source": [
        "sentence10 = re.split(r'am', 'I am learning text analytics, I am enjoying it and I am going to ace it', maxsplit=3)\n",
        "print (sentence10)"
      ],
      "metadata": {
        "colab": {
          "base_uri": "https://localhost:8080/"
        },
        "id": "AzU80Abra90G",
        "outputId": "00366aa7-8ebb-4f7a-dac7-9ae69f4a406d"
      },
      "execution_count": 22,
      "outputs": [
        {
          "output_type": "stream",
          "name": "stdout",
          "text": [
            "['I ', ' learning text analytics, I ', ' enjoying it and I ', ' going to ace it']\n"
          ]
        }
      ]
    },
    {
      "cell_type": "markdown",
      "source": [
        "## re.sub()"
      ],
      "metadata": {
        "id": "nfwlHvijfvB6"
      }
    },
    {
      "cell_type": "code",
      "source": [
        "sentence11 = re.sub(r'I', 'we', 'I like text analytics and I enjoy learning it')\n",
        "print (sentence11)"
      ],
      "metadata": {
        "colab": {
          "base_uri": "https://localhost:8080/"
        },
        "id": "T--Y6NYKbEPe",
        "outputId": "4038266c-9404-41f8-f1ed-95a23c8efdbb"
      },
      "execution_count": 23,
      "outputs": [
        {
          "output_type": "stream",
          "name": "stdout",
          "text": [
            "we like text analytics and we enjoy learning it\n"
          ]
        }
      ]
    },
    {
      "cell_type": "markdown",
      "source": [
        "## re.findall()"
      ],
      "metadata": {
        "id": "1vSHUhsKfysq"
      }
    },
    {
      "cell_type": "code",
      "source": [
        "sentence1 = re.findall (r'.', 'I am learning text analytics')\n",
        "print (sentence1)\n",
        "\n",
        "# Each letter is selected including spaces"
      ],
      "metadata": {
        "colab": {
          "base_uri": "https://localhost:8080/"
        },
        "id": "EgAiU6rebMo9",
        "outputId": "161b9b66-c20c-4b5c-92cd-47b07d57a798"
      },
      "execution_count": 24,
      "outputs": [
        {
          "output_type": "stream",
          "name": "stdout",
          "text": [
            "['I', ' ', 'a', 'm', ' ', 'l', 'e', 'a', 'r', 'n', 'i', 'n', 'g', ' ', 't', 'e', 'x', 't', ' ', 'a', 'n', 'a', 'l', 'y', 't', 'i', 'c', 's']\n"
          ]
        }
      ]
    },
    {
      "cell_type": "code",
      "source": [
        "sentence2 = re.findall (r'\\w', 'I am learning text analytics')\n",
        "print (sentence2)\n",
        "\n",
        "# Each letter is selected excluding spaces"
      ],
      "metadata": {
        "colab": {
          "base_uri": "https://localhost:8080/"
        },
        "id": "DoRd8Oe5bQ5V",
        "outputId": "5beabb92-e8dc-4937-e3df-aa669331a21a"
      },
      "execution_count": 26,
      "outputs": [
        {
          "output_type": "stream",
          "name": "stdout",
          "text": [
            "['I', 'a', 'm', 'l', 'e', 'a', 'r', 'n', 'i', 'n', 'g', 't', 'e', 'x', 't', 'a', 'n', 'a', 'l', 'y', 't', 'i', 'c', 's']\n"
          ]
        }
      ]
    },
    {
      "cell_type": "code",
      "source": [
        "sentence3 = re.findall (r'\\w*', 'I am learning text analytics')\n",
        "print (sentence3)\n",
        "\n",
        "# Each word is selected including spaces"
      ],
      "metadata": {
        "colab": {
          "base_uri": "https://localhost:8080/"
        },
        "id": "Vf0fVf-SbaOd",
        "outputId": "47ae3f02-fa35-4258-ab82-36cf1a7c606c"
      },
      "execution_count": 27,
      "outputs": [
        {
          "output_type": "stream",
          "name": "stdout",
          "text": [
            "['I', '', 'am', '', 'learning', '', 'text', '', 'analytics', '']\n"
          ]
        }
      ]
    },
    {
      "cell_type": "code",
      "source": [
        "sentence4 = re.findall (r'\\w+', 'I am learning text analytics')\n",
        "print (sentence4)\n",
        "\n",
        "# Each word is selected excluding spaces"
      ],
      "metadata": {
        "colab": {
          "base_uri": "https://localhost:8080/"
        },
        "id": "Orp5vd0Dbgxu",
        "outputId": "ceca9ea1-be5e-4e2d-aca7-755ca4ab39a4"
      },
      "execution_count": 28,
      "outputs": [
        {
          "output_type": "stream",
          "name": "stdout",
          "text": [
            "['I', 'am', 'learning', 'text', 'analytics']\n"
          ]
        }
      ]
    },
    {
      "cell_type": "code",
      "source": [
        "sentence5 = re.findall (r'^\\w+', 'I am learning text analytics')\n",
        "print (sentence5)\n",
        "\n",
        "# First word is selected"
      ],
      "metadata": {
        "colab": {
          "base_uri": "https://localhost:8080/"
        },
        "id": "irPNV2Yxbn2l",
        "outputId": "7ceba8f1-f633-4a57-8b33-3bbe764b3630"
      },
      "execution_count": 29,
      "outputs": [
        {
          "output_type": "stream",
          "name": "stdout",
          "text": [
            "['I']\n"
          ]
        }
      ]
    },
    {
      "cell_type": "code",
      "source": [
        "sentence6 = re.findall (r'\\w+$', 'I am learning text analytics')\n",
        "print (sentence6)\n",
        "\n",
        "# Last word is selected"
      ],
      "metadata": {
        "colab": {
          "base_uri": "https://localhost:8080/"
        },
        "id": "RaY2fnB6b8cN",
        "outputId": "40e98dba-3b47-481b-aeb4-f5561087995c"
      },
      "execution_count": 30,
      "outputs": [
        {
          "output_type": "stream",
          "name": "stdout",
          "text": [
            "['analytics']\n"
          ]
        }
      ]
    },
    {
      "cell_type": "code",
      "source": [
        "sentence7 = re.findall (r'\\w\\w', 'I am learning text analytics')\n",
        "print (sentence7)"
      ],
      "metadata": {
        "colab": {
          "base_uri": "https://localhost:8080/"
        },
        "id": "hbRMPoVmcCu1",
        "outputId": "a10cdd94-38e5-4a4c-c7d1-5e996e9f852b"
      },
      "execution_count": 31,
      "outputs": [
        {
          "output_type": "stream",
          "name": "stdout",
          "text": [
            "['am', 'le', 'ar', 'ni', 'ng', 'te', 'xt', 'an', 'al', 'yt', 'ic']\n"
          ]
        }
      ]
    },
    {
      "cell_type": "code",
      "source": [
        "sentence8 = re.findall (r'\\b\\w\\w', 'I am learning text analytics')\n",
        "print (sentence8)"
      ],
      "metadata": {
        "colab": {
          "base_uri": "https://localhost:8080/"
        },
        "id": "ng3CBW0icFpF",
        "outputId": "a7b95376-1b3f-4f36-d15d-bd18bc83e131"
      },
      "execution_count": 32,
      "outputs": [
        {
          "output_type": "stream",
          "name": "stdout",
          "text": [
            "['am', 'le', 'te', 'an']\n"
          ]
        }
      ]
    },
    {
      "cell_type": "code",
      "source": [
        "sentence9 = re.findall (r'@\\w+', 'user@text.com.my, user@analytics.gov.my, user@textanalytics.edu.my')\n",
        "print (sentence9)\n",
        "\n",
        "# Only the first word in the domain name is selected"
      ],
      "metadata": {
        "colab": {
          "base_uri": "https://localhost:8080/"
        },
        "id": "PUkqcIA2cKZF",
        "outputId": "c53a2629-ac94-497f-98a8-1e815e7b92a8"
      },
      "execution_count": 33,
      "outputs": [
        {
          "output_type": "stream",
          "name": "stdout",
          "text": [
            "['@text', '@analytics', '@textanalytics']\n"
          ]
        }
      ]
    },
    {
      "cell_type": "code",
      "source": [
        "sentence10 = re.findall (r'@\\w+.\\w+','user@text.com.my, user@analytics.gov.my, user@textanalytics.edu.my')\n",
        "print (sentence10)"
      ],
      "metadata": {
        "colab": {
          "base_uri": "https://localhost:8080/"
        },
        "id": "9UoXKGcQcMRl",
        "outputId": "abe1c2de-e6f6-4922-941f-0faab04cf5e5"
      },
      "execution_count": 34,
      "outputs": [
        {
          "output_type": "stream",
          "name": "stdout",
          "text": [
            "['@text.com', '@analytics.gov', '@textanalytics.edu']\n"
          ]
        }
      ]
    },
    {
      "cell_type": "code",
      "source": [
        "sentence11 = re.findall (r'@\\w+.\\w+.\\w+', 'user@text.com.my, user@analytics.gov.my, user@textanalytics.edu.my')\n",
        "print (sentence11)\n",
        "\n",
        "# The full domain name is selected"
      ],
      "metadata": {
        "colab": {
          "base_uri": "https://localhost:8080/"
        },
        "id": "kJlRWlgoccJN",
        "outputId": "12eaca5b-63b5-40f5-8dc2-60fc98dd440e"
      },
      "execution_count": 35,
      "outputs": [
        {
          "output_type": "stream",
          "name": "stdout",
          "text": [
            "['@text.com.my', '@analytics.gov.my', '@textanalytics.edu.my']\n"
          ]
        }
      ]
    },
    {
      "cell_type": "code",
      "source": [
        "# Solution\n",
        "\n",
        "sentence12 = re.findall (r'@\\w+.(\\w+.\\w+)', 'user@text.com.my, user@analytics.gov.my, user@textanalytics.edu.my')\n",
        "print (sentence12)\n",
        "\n",
        "# To display the type of domain"
      ],
      "metadata": {
        "colab": {
          "base_uri": "https://localhost:8080/"
        },
        "id": "H9mEyXV9cijN",
        "outputId": "19ae11d0-1f29-4182-ab63-4a9cb9c0c819"
      },
      "execution_count": 46,
      "outputs": [
        {
          "output_type": "stream",
          "name": "stdout",
          "text": [
            "['com.my', 'gov.my', 'edu.my']\n"
          ]
        }
      ]
    },
    {
      "cell_type": "code",
      "source": [
        "sentence13 = re.findall (r'\\d{2}-\\d{2}-\\d{2}', 'Ahmad BIT(IS) 15-05-2001, Johnny BCS(SE) 20-08-2000')\n",
        "print (sentence13)\n",
        "\n",
        "# To display the date in the format of dd-mm-yy"
      ],
      "metadata": {
        "colab": {
          "base_uri": "https://localhost:8080/"
        },
        "id": "c7tOhGkqdCad",
        "outputId": "96eb456d-70b8-4961-f0c3-93a1075dd028"
      },
      "execution_count": 40,
      "outputs": [
        {
          "output_type": "stream",
          "name": "stdout",
          "text": [
            "['15-05-20', '20-08-20']\n"
          ]
        }
      ]
    },
    {
      "cell_type": "code",
      "source": [
        "sentence14 = re.findall (r'\\d{2}-\\d{2}-\\d{4}', 'Ahmad BIT(IS) 15-05-2001, Johnny BCS(SE) 20-08-2000')\n",
        "print (sentence14)\n",
        "\n",
        "# To display the date in the format of dd-mm-yyyy"
      ],
      "metadata": {
        "colab": {
          "base_uri": "https://localhost:8080/"
        },
        "id": "B4SQnqA9dEs9",
        "outputId": "13420c2f-203d-4d34-abcf-cb51a21a78f0"
      },
      "execution_count": 41,
      "outputs": [
        {
          "output_type": "stream",
          "name": "stdout",
          "text": [
            "['15-05-2001', '20-08-2000']\n"
          ]
        }
      ]
    },
    {
      "cell_type": "code",
      "source": [
        "sentence15 = re.findall (r'\\d{2}-\\d{2}-(\\d{4})', 'Ahmad BIT(IS) 15-05-2001, Johnny BCS(SE) 20-08-2000')\n",
        "print (sentence15)\n",
        "\n",
        "# Only the year will be displayed"
      ],
      "metadata": {
        "colab": {
          "base_uri": "https://localhost:8080/"
        },
        "id": "7pkXL065dIBu",
        "outputId": "c254f357-40ed-4718-bf79-a4f3aa489a50"
      },
      "execution_count": 42,
      "outputs": [
        {
          "output_type": "stream",
          "name": "stdout",
          "text": [
            "['2001', '2000']\n"
          ]
        }
      ]
    },
    {
      "cell_type": "code",
      "source": [
        "sentence16 = re.findall (r'[aeiouAEIOU]\\w+', 'I have eight story books. I often read them in afternoon')\n",
        "print (sentence16)\n",
        "\n",
        "# A sequence that starts with a vowel followed by one o rmore characters are selected"
      ],
      "metadata": {
        "colab": {
          "base_uri": "https://localhost:8080/"
        },
        "id": "Pc3llf04dNjt",
        "outputId": "4423dcd7-1293-4c54-fe91-e74f07bb6ffd"
      },
      "execution_count": 43,
      "outputs": [
        {
          "output_type": "stream",
          "name": "stdout",
          "text": [
            "['ave', 'eight', 'ory', 'ooks', 'often', 'ead', 'em', 'in', 'afternoon']\n"
          ]
        }
      ]
    },
    {
      "cell_type": "code",
      "source": [
        "sentence17 = re.findall (r'\\b[aeiouAEIOU]\\w+', 'I have eight story books. I often read them in afternoon')\n",
        "print (sentence17)\n",
        "\n",
        "# Only words that start with vowels are selected"
      ],
      "metadata": {
        "colab": {
          "base_uri": "https://localhost:8080/"
        },
        "id": "mjlr5LLodSB9",
        "outputId": "805b5a5d-134a-41f1-9a3a-38eed1715980"
      },
      "execution_count": 44,
      "outputs": [
        {
          "output_type": "stream",
          "name": "stdout",
          "text": [
            "['eight', 'often', 'in', 'afternoon']\n"
          ]
        }
      ]
    },
    {
      "cell_type": "code",
      "source": [
        "sentence18 = re.findall (r'\\b[^aeiouAEIOU\\s]\\w+', 'I have eight story books. I often read them in afternoon')\n",
        "print (sentence18)\n",
        "\n",
        "# Only words that start with non-vowels are selected"
      ],
      "metadata": {
        "colab": {
          "base_uri": "https://localhost:8080/"
        },
        "id": "w2XI2rUWdZVt",
        "outputId": "7e47095e-9ce9-4a84-f140-496e1c419198"
      },
      "execution_count": 45,
      "outputs": [
        {
          "output_type": "stream",
          "name": "stdout",
          "text": [
            "['have', 'story', 'books', 'read', 'them']\n"
          ]
        }
      ]
    },
    {
      "cell_type": "markdown",
      "source": [
        "## re.split()"
      ],
      "metadata": {
        "id": "q7dWuHWqf5va"
      }
    },
    {
      "cell_type": "code",
      "source": [
        "sentence19 = re.split (r'[;,]', 'I have many story books, colouring books; I often read them in the afternoon.')\n",
        "print (sentence19)\n",
        "\n",
        "# split the words based on the delimiters semi colon and comma"
      ],
      "metadata": {
        "colab": {
          "base_uri": "https://localhost:8080/"
        },
        "id": "wDnNWAH9d1h0",
        "outputId": "1bf6d5d8-9b2e-47a0-99ab-50c746bf57f0"
      },
      "execution_count": 47,
      "outputs": [
        {
          "output_type": "stream",
          "name": "stdout",
          "text": [
            "['I have many story books', ' colouring books', ' I often read them in the afternoon.']\n"
          ]
        }
      ]
    },
    {
      "cell_type": "code",
      "source": [
        "sentence20 = re.split (r'[;,\\s]', 'I have many story books, colouring books; I often read them in the afternoon.')\n",
        "print (sentence20)\n",
        "\n",
        "# split the words based on the delimiters semi colon, comma and space"
      ],
      "metadata": {
        "colab": {
          "base_uri": "https://localhost:8080/"
        },
        "id": "1jJg-RTSd4Kc",
        "outputId": "70018111-eb0e-490c-b7d0-b104850d42ee"
      },
      "execution_count": 48,
      "outputs": [
        {
          "output_type": "stream",
          "name": "stdout",
          "text": [
            "['I', 'have', 'many', 'story', 'books', '', 'colouring', 'books', '', 'I', 'often', 'read', 'them', 'in', 'the', 'afternoon.']\n"
          ]
        }
      ]
    },
    {
      "cell_type": "markdown",
      "source": [
        "## re.sub()"
      ],
      "metadata": {
        "id": "JlToYKeef_sx"
      }
    },
    {
      "cell_type": "code",
      "source": [
        "sentence21 = re.sub (r'[;,]', '.', 'I have many story books, colouring books; I often read them in the afternoon.')\n",
        "print (sentence21)\n",
        "\n",
        "# Substitute the delimiters semi colon and comma with fullstop"
      ],
      "metadata": {
        "colab": {
          "base_uri": "https://localhost:8080/"
        },
        "id": "kblgnac0d760",
        "outputId": "c9a15d4f-7297-41db-886e-146e808affc5"
      },
      "execution_count": 49,
      "outputs": [
        {
          "output_type": "stream",
          "name": "stdout",
          "text": [
            "I have many story books. colouring books. I often read them in the afternoon.\n"
          ]
        }
      ]
    }
  ]
}